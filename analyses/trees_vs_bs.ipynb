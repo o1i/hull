{
 "cells": [
  {
   "cell_type": "markdown",
   "metadata": {},
   "source": [
    "# Performance comparison of option calculations"
   ]
  },
  {
   "cell_type": "markdown",
   "metadata": {},
   "source": [
    "## European vanilla options"
   ]
  },
  {
   "cell_type": "code",
   "execution_count": 1,
   "metadata": {},
   "outputs": [],
   "source": [
    "import os\n",
    "from random import random, seed\n",
    "import sys\n",
    "from timeit import timeit\n",
    "\n",
    "from matplotlib import pyplot as plt\n",
    "import numpy as np\n",
    "import pandas as pd\n",
    "import plotly\n",
    "import plotly.express as px\n",
    "import plotly.graph_objects as go\n",
    "from plotly.offline import iplot\n",
    "\n",
    "sys.path.append(os.path.normpath(os.path.join(os.getcwd(), os.pardir)))"
   ]
  },
  {
   "cell_type": "code",
   "execution_count": null,
   "metadata": {},
   "outputs": [],
   "source": [
    "from methods.binom_trees import call_eur_binom_tree\n",
    "from methods.black_scholes import call_eur_bs"
   ]
  },
  {
   "cell_type": "markdown",
   "metadata": {},
   "source": [
    "### Convergence to the BS call value"
   ]
  },
  {
   "cell_type": "code",
   "execution_count": null,
   "metadata": {},
   "outputs": [],
   "source": [
    "seed(42)\n",
    "n_steps = [2, 5, 10, 20, 30, 50, 75, 100, 200]\n",
    "len_steps = len(n_steps)\n",
    "addons = []\n",
    "for _ in range(1000):\n",
    "    s = random() * 50 + 10  # U(10, 60)\n",
    "    k = s + (random() - 0.5) * 9 \n",
    "    r = 0.001 + random() / 20  # U(0.001, 0.201)\n",
    "    sig = 0.01 + random() / 1.5  # U(0.01, 0.67666)\n",
    "    t = random() * (np.sqrt(sig / r) - 0.01) + 0.01  # U(0.1, sqrt(sig/r)). Above, pu > 1 in the formulas in 13.8\n",
    "    bs = call_eur_bs(s=s, k=k, r=r, sig=sig, t=t)\n",
    "    tree = [call_eur_binom_tree(s=s, k=k, r=r, sig=sig, t=t, n=n_i) for n_i in n_steps]\n",
    "    tree_abs = [i - bs for i in tree]\n",
    "    tree_rel = [i / max(0.001, bs) for i in tree]\n",
    "    addons.append(pd.DataFrame({\n",
    "        \"s\": [s]*len_steps,\n",
    "        \"k\": [k]*len_steps,\n",
    "        \"r\": [r]*len_steps,\n",
    "        \"sig\": [sig]*len_steps,\n",
    "        \"t\": [t]*len_steps,\n",
    "        \"n\": n_steps,\n",
    "        \"bs\": [bs]*len_steps,\n",
    "        \"tree\": tree,\n",
    "        \"ratio\": tree_rel,\n",
    "        \"diff\": tree_abs,\n",
    "        \n",
    "    }))\n",
    "comparisons = pd.concat(addons, axis=0, ignore_index=True)\n",
    "comparisons[\"n\"] = comparisons[\"n\"].astype(\"category\")"
   ]
  },
  {
   "cell_type": "code",
   "execution_count": null,
   "metadata": {},
   "outputs": [],
   "source": [
    "px.scatter(comparisons, x=\"bs\", y=\"tree\", color=\"n\", hover_data=[\"s\", \"k\", \"r\", \"sig\", \"t\"],\n",
    "           title=\"Tree vs. BS-Values of European call options for different tree sizes n\")"
   ]
  },
  {
   "cell_type": "markdown",
   "metadata": {},
   "source": [
    "As expected, there seem to be systematic errors for very low n (interesting questions: Why? Is the apparent oscillation obvious from theory?), but after about 20 or so, there are no mor gross outliers."
   ]
  },
  {
   "cell_type": "code",
   "execution_count": null,
   "metadata": {},
   "outputs": [],
   "source": [
    "fig = px.box(comparisons, x=\"n\", y=\"ratio\",\n",
    "            title=\"Ratios between Tree and BS values of European calls\")\n",
    "fig.update_yaxes(range=[0.99, 1.01])\n",
    "fig.show()"
   ]
  },
  {
   "cell_type": "markdown",
   "metadata": {},
   "source": [
    "The ratios between the two methods show the expected narrowing of ranges with increasing n. It's notable that with n=30 used in the book, the difference in option prices is still about half a percent, which is not small. Also there are some larger mistakes that occur if the BS value is small."
   ]
  },
  {
   "cell_type": "code",
   "execution_count": null,
   "metadata": {},
   "outputs": [],
   "source": [
    "fig = px.box(comparisons, x=\"n\", y=\"diff\",\n",
    "             title=\"Differences between tree and BS values of European calls\")\n",
    "fig.update_yaxes(range=[-1, 1])\n",
    "plotly.offline.iplot(fig)"
   ]
  },
  {
   "cell_type": "markdown",
   "metadata": {},
   "source": [
    "Differences yield a more conciliatory picture, but of course that especially for low values, even small differences can make a significant differences."
   ]
  },
  {
   "cell_type": "markdown",
   "metadata": {},
   "source": [
    "### Performance difference"
   ]
  },
  {
   "cell_type": "code",
   "execution_count": null,
   "metadata": {},
   "outputs": [],
   "source": [
    "s = 50\n",
    "k = 48\n",
    "r = 0.01\n",
    "sig = 0.2\n",
    "t = 5\n",
    "n_trials = 1000\n",
    "t_bs = timeit(lambda: call_eur_bs(s=s, k=k, r=r, sig=sig, t=t), number=n_trials)\n",
    "t_tree = [timeit(lambda: call_eur_binom_tree(s=s, k=k, r=r, sig=sig, t=t, n=n), number=n_trials) for n in n_steps]\n"
   ]
  },
  {
   "cell_type": "code",
   "execution_count": null,
   "metadata": {},
   "outputs": [],
   "source": [
    "coefs = np.polyfit(n_steps, t_tree, 2)\n",
    "n_x = 200\n",
    "x = np.linspace(0, max(n_steps), n_x)\n",
    "y = coefs[2] + coefs[1] * x + coefs[0] * x ** 2"
   ]
  },
  {
   "cell_type": "code",
   "execution_count": null,
   "metadata": {},
   "outputs": [],
   "source": [
    "bs = go.Scatter(x=x, y=[t_bs / 1000]*n_x, mode=\"lines\", name=\"BS\", marker={\"color\": \"hsl(210, 50%, 50%)\"})\n",
    "quadratic_fit = go.Scatter(x=x, y=y/1000, mode=\"lines\", name=\"Quadratic fit\", marker={\"color\": \"hsl(120, 70%, 50%)\"})\n",
    "actual = go.Scatter(x=n_steps, y=[i / 1000 for i in t_tree], mode=\"markers\", name=\"Actual runtimes\", marker={\"size\": 10, \"color\": \"hsl(120, 90%, 30%)\"})\n",
    "layout = {\n",
    "    'showlegend': True,\n",
    "    \"title\": \"Runtimes of Binomial trees vs Black Scholes\"\n",
    "}\n",
    "\n",
    "fig = {\n",
    "    'layout': layout,\n",
    "    'data': [bs, quadratic_fit, actual],\n",
    "}\n",
    "\n",
    "iplot(fig)"
   ]
  },
  {
   "cell_type": "markdown",
   "metadata": {},
   "source": [
    "At `n=30` trees take about twice as long as BS. While 1000 BS take about a third of a second, the same amount of `n=100`trees take more than 6 seconds. For individual calculations both certainly seem acceptable. As long as the number of executions stays low, this is not considered a problem. In Cases of significant load, a change in programming language may be in order anyway."
   ]
  }
 ],
 "metadata": {
  "kernelspec": {
   "display_name": "Python 3",
   "language": "python",
   "name": "python3"
  },
  "language_info": {
   "codemirror_mode": {
    "name": "ipython",
    "version": 3
   },
   "file_extension": ".py",
   "mimetype": "text/x-python",
   "name": "python",
   "nbconvert_exporter": "python",
   "pygments_lexer": "ipython3",
   "version": "3.8.5"
  }
 },
 "nbformat": 4,
 "nbformat_minor": 4
}

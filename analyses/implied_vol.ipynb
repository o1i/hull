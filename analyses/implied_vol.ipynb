{
 "cells": [
  {
   "cell_type": "markdown",
   "metadata": {},
   "source": [
    "## Implied volatility smiles from options"
   ]
  },
  {
   "cell_type": "markdown",
   "metadata": {},
   "source": [
    "This notebook compares options on a stock and their implied volatilities with the observed volatilities in the past. The stock chosen is alphabet, since it conveniently does not pay any dividends and is fairly liquid. The analysis is done with historic closing data for GOOG up until 2020-12-29 and option price data at some time on that last day. Since I did not find freely available historic option price data, longitudinal analysis are unfortunately not possible."
   ]
  },
  {
   "cell_type": "code",
   "execution_count": 14,
   "metadata": {},
   "outputs": [],
   "source": [
    "from datetime import datetime\n",
    "from io import StringIO\n",
    "import os\n",
    "import sys\n",
    "\n",
    "import numpy as np\n",
    "import pandas as pd\n",
    "import plotly.graph_objects as go\n",
    "from plotly.offline.offline import iplot\n",
    "import requests\n",
    "\n",
    "sys.path.append(os.path.normpath(os.path.join(os.getcwd(), os.pardir)))\n",
    "from methods.binom_trees import binom_tree, iv_put, iv_call, fv_american\n",
    "from methods.implied_vol_options import implied_vol\n",
    "\n",
    "dt_fmt = \"%Y-%m-%d\"\n",
    "col_0 = \"#1f77b4\"\n",
    "col_1 = \"#ff7f0e\""
   ]
  },
  {
   "cell_type": "code",
   "execution_count": 2,
   "metadata": {},
   "outputs": [],
   "source": [
    "# Download the data\n",
    "goog_hist_csv = requests.get(\"https://raw.githubusercontent.com/o1i/hull/main/data/2020-12-27_GOOG.csv\").content.decode(\"utf-8\")\n",
    "goog_opt_csv = requests.get(\"https://raw.githubusercontent.com/o1i/hull/main/data/20201229_goog_options_via_nasdaq.csv\").content.decode(\"utf-8\")"
   ]
  },
  {
   "cell_type": "code",
   "execution_count": 11,
   "metadata": {},
   "outputs": [],
   "source": [
    "# Get Data into a usable format\n",
    "hist = pd.read_csv(StringIO(goog_hist_csv))\n",
    "opt = pd.read_csv(StringIO(goog_opt_csv))\n",
    "opt[\"call\"] = (opt[\"call_bid\"] + opt[\"call_ask\"]) / 2\n",
    "opt[\"put\"] = (opt[\"put_bid\"] + opt[\"put_ask\"]) / 2\n",
    "s0 = hist.sort_values(\"Date\")[\"Close\"].iloc[-1]\n",
    "\n",
    "# Time to expiry\n",
    "def workdays_between(t1: datetime, t2: datetime) -> int:\n",
    "    \"\"\"Returns number of workdays between the two dates, excluding t1, including t2\"\"\"\n",
    "    return sum(d.weekday() in [0, 1, 2, 3, 4] for d in pd.date_range(t1, t2, freq=\"d\")[1:])\n",
    "\n",
    "# Simplifying assumption: trading days are workdays (aka only weekends are not trading days)\n",
    "t0 = datetime.strptime(max(hist[\"Date\"]), dt_fmt)\n",
    "t_n_map = {x: workdays_between(t0, x) for x in opt[\"date\"].unique()}\n",
    "opt[\"t_n\"] = opt[\"date\"].map(t_n_map) / 252\n",
    "opt.sort_values([\"date\", \"strike\"])\n",
    "\n",
    "# Risk-'free' rates from  T-Bills\n",
    "# https://www.treasury.gov/resource-center/data-chart-center/interest-rates/Pages/TextView.aspx?data=billrates\n",
    "r = 0.09\n",
    "\n",
    "# Number of steps in the trees\n",
    "n = 50"
   ]
  },
  {
   "cell_type": "code",
   "execution_count": 12,
   "metadata": {},
   "outputs": [],
   "source": [
    "opt[\"call_sig\"] = opt.apply(lambda x: implied_vol(binom_tree, \n",
    "                                                  x[\"call\"], \n",
    "                                                  {\n",
    "                                                      \"s\": s0, \n",
    "                                                      \"k\": x[\"strike\"],\n",
    "                                                      \"r\": r,\n",
    "                                                      \"t\": x[\"t_n\"],\n",
    "                                                      \"n\": n,\n",
    "                                                      \"iv\": iv_call,\n",
    "                                                      \"fv\": fv_american\n",
    "                                                  }), axis=1)\n",
    "opt[\"put_sig\"] = opt.apply(lambda x: implied_vol(binom_tree, \n",
    "                                                 x[\"put\"], \n",
    "                                                 {\n",
    "                                                     \"s\": s0, \n",
    "                                                     \"k\": x[\"strike\"],\n",
    "                                                     \"r\": r,\n",
    "                                                     \"t\": x[\"t_n\"],\n",
    "                                                     \"n\": n,\n",
    "                                                     \"iv\": iv_put,\n",
    "                                                     \"fv\": fv_american\n",
    "                                                 }), axis=1)"
   ]
  },
  {
   "cell_type": "markdown",
   "metadata": {},
   "source": [
    "Expectations to be tested:\n",
    "\n",
    "- Put- vs Call- Volatilities: If it were European options, then the put-call parity should lead to the implied volatilities being equal. However, since those are american options, I would expect them to be close, but not equal.\n",
    "- Volatilities for different strikes: Due to the shortcomings of black scholes, tail dependence and the like, one would expect the volatilities for different strikes to be different, aka higher for large decreases in the stock price.\n",
    "- Implied volatilities should be in the range observed in the past. However, since in the volatility notebook I have seen that the past is an imperfect predictor I would be surprised if it were exactly the same. Also it will be interesting to see to what prior window the implied volatilities correspond.\n"
   ]
  },
  {
   "cell_type": "code",
   "execution_count": 21,
   "metadata": {
    "scrolled": false
   },
   "outputs": [],
   "source": [
    "opt_0 = opt[opt[\"date\"] == min(opt[\"date\"])]\n",
    "opt_1 = opt[opt[\"date\"] == max(opt[\"date\"])]\n",
    "t_0 = round(min(opt_0[\"t_n\"] * 252))\n",
    "t_1 = round(min(opt_1[\"t_n\"] * 252))\n",
    "\n",
    "\n",
    "fig = go.Figure(layout_title=\"Volatility smile for GOOG\",\n",
    "               layout_xaxis_title=\"K/S\",\n",
    "               layout_yaxis_title=\"Implied volatility\"\n",
    "               )\n",
    "fig.add_trace(go.Scatter(x=opt_0[\"strike\"] / s0, y=opt_0[\"call_sig\"],\n",
    "                        line={\"color\": col_0, \"dash\": \"solid\"}, name=f\"Call-Implied volatility, t:{t_0}d\", mode=\"lines\"))\n",
    "fig.add_trace(go.Scatter(x=opt_0[\"strike\"] / s0, y=opt_0[\"put_sig\"],\n",
    "                        line={\"color\": col_0, \"dash\": \"dash\"}, name=f\"Put-Implied volatility, t:{t_0}d\", mode=\"lines\"))\n",
    "fig.add_trace(go.Scatter(x=opt_1[\"strike\"] / s0, y=opt_1[\"call_sig\"],\n",
    "                        line={\"color\": col_1, \"dash\": \"solid\"}, name=f\"Call-Implied volatility, t:{t_1}d\", mode=\"lines\"))\n",
    "fig.add_trace(go.Scatter(x=opt_1[\"strike\"] / s0, y=opt_1[\"put_sig\"],\n",
    "                        line={\"color\": col_1, \"dash\": \"dash\"}, name=f\"Put-Implied volatility, t:{t_1}d\", mode=\"lines\"))\n",
    "iplot(fig)"
   ]
  },
  {
   "cell_type": "markdown",
   "metadata": {},
   "source": [
    "There are some remarkable features to be observed here:\n",
    "\n",
    "**Put- call difference**: Puts have the higher implied volatility (aka are more expensive) than call options (on GOOG). While this does not necessarily follow the theory behind BS, I found plausible explanations explaining this difference by the higher demand for puts (\"insurance\" against downturns) than for calls. This would mean that the \"true\" expected volatility lies somewhere in between those two lines. Could an options trader then not make money over the long term by being on the opposide side of those trades? One problem could be that since in crises most asset classes are correlated and losses on puts are unbounded, this could wipe out the trader. Would be interesting to discuss with someone who has knowledge about this. Please contact me if you do and would be willing to discuss!\n",
    "\n",
    "**Difference between dates**: According to hull (Chapter 20), volatility expectations are mean-reverting which, if the reason for the decrease in implied volatility on the later contract, would mean that the volatility expected between the two expiry dates is lower than the one up to the first expiry date. Without evidence I could also see part of the reason being the end of the year (window dressing?), but without historic data, this is hard to confirm. Unfortunately, I did not find historic option prices freely available online, so these hypotheses cannot really be tested.\n",
    "\n",
    "**Lack of decreate for calls**: interestingly, the call smile is significantly flatter than the put smile, with the implied volatility even increasing for low strikes. If, as argued for the put-call difference, the implied volatilities reflect supply and demand, then this would mean that the demand for low strikes strongly tails off towards lower and lower strikes.\n"
   ]
  },
  {
   "cell_type": "code",
   "execution_count": 59,
   "metadata": {},
   "outputs": [],
   "source": [
    "x = list(range(10, 50))\n",
    "returns = hist[\"Close\"].pct_change().map(lambda x: np.log(1+x))\n",
    "y = [returns.iloc[-t:].std() * np.sqrt(252) for t in x]"
   ]
  },
  {
   "cell_type": "code",
   "execution_count": 60,
   "metadata": {},
   "outputs": [],
   "source": [
    "fig = go.Figure(layout_title=\"Obseved annualised log volatility in same order of magnitude as implied forward volatility\",\n",
    "               layout_xaxis_title=\"# Trading days included in vol calculation\",\n",
    "               layout_yaxis_title=\"Observed volatility\"\n",
    "               )\n",
    "fig.add_trace(go.Scatter(x=x, y=y,\n",
    "                        line={\"color\": col_0, \"dash\": \"solid\"}, mode=\"lines\"))\n",
    "\n",
    "iplot(fig)"
   ]
  },
  {
   "cell_type": "markdown",
   "metadata": {},
   "source": [
    "I am aware that implied volatilities are forward looking whereas historic changes in stock prices are forward looking, but an order-of-magnitudes comparison still can be comforting. Over \"similar\" window sizes (aka 28/38 days), the volatilities are very comparable. However, going further back, the volatilities were obviously considerable higher (March 2020 clearly visible). Interesting is the precipitous drop around 40 days. After mid to end October, the price seems to have been rather stable. It appears the markets assume this stability to continue in the near future."
   ]
  }
 ],
 "metadata": {
  "kernelspec": {
   "display_name": "Python 3",
   "language": "python",
   "name": "python3"
  },
  "language_info": {
   "codemirror_mode": {
    "name": "ipython",
    "version": 3
   },
   "file_extension": ".py",
   "mimetype": "text/x-python",
   "name": "python",
   "nbconvert_exporter": "python",
   "pygments_lexer": "ipython3",
   "version": "3.8.5"
  }
 },
 "nbformat": 4,
 "nbformat_minor": 4
}

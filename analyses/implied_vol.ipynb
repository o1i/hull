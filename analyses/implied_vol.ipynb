{
 "cells": [
  {
   "cell_type": "markdown",
   "metadata": {},
   "source": [
    "## Implied volatility smiles from options"
   ]
  },
  {
   "cell_type": "markdown",
   "metadata": {},
   "source": [
    "This notebook compares options on a stock and their implied volatilities with the observed volatilities in the past. The stock chosen is alphabet, since it conveniently does not pay any dividends and is fairly liquid. The analysis is done with historic closing data for GOOG up until 2020-12-29 and option price data at some time on that last day. Since I did not find freely available historic option price data, longitudinal analysis are unfortunately not possible."
   ]
  },
  {
   "cell_type": "code",
   "execution_count": 14,
   "metadata": {},
   "outputs": [],
   "source": [
    "from datetime import datetime\n",
    "from io import StringIO\n",
    "import os\n",
    "import sys\n",
    "\n",
    "import numpy as np\n",
    "import pandas as pd\n",
    "import plotly.graph_objects as go\n",
    "from plotly.offline.offline import iplot\n",
    "import requests\n",
    "\n",
    "sys.path.append(os.path.normpath(os.path.join(os.getcwd(), os.pardir)))\n",
    "from methods.binom_trees import binom_tree, iv_put, iv_call, fv_american\n",
    "from methods.implied_vol_options import implied_vol\n",
    "\n",
    "dt_fmt = \"%Y-%m-%d\"\n",
    "col_0 = \"#1f77b4\"\n",
    "col_1 = \"#ff7f0e\""
   ]
  },
  {
   "cell_type": "code",
   "execution_count": 2,
   "metadata": {},
   "outputs": [],
   "source": [
    "# Download the data\n",
    "goog_hist_csv = requests.get(\"https://raw.githubusercontent.com/o1i/hull/main/data/2020-12-27_GOOG.csv\").content.decode(\"utf-8\")\n",
    "goog_opt_csv = requests.get(\"https://raw.githubusercontent.com/o1i/hull/main/data/20201229_goog_options_via_nasdaq.csv\").content.decode(\"utf-8\")"
   ]
  },
  {
   "cell_type": "code",
   "execution_count": 11,
   "metadata": {},
   "outputs": [],
   "source": [
    "# Get Data into a usable format\n",
    "hist = pd.read_csv(StringIO(goog_hist_csv))\n",
    "opt = pd.read_csv(StringIO(goog_opt_csv))\n",
    "opt[\"call\"] = (opt[\"call_bid\"] + opt[\"call_ask\"]) / 2\n",
    "opt[\"put\"] = (opt[\"put_bid\"] + opt[\"put_ask\"]) / 2\n",
    "s0 = hist.sort_values(\"Date\")[\"Close\"].iloc[-1]\n",
    "\n",
    "# Time to expiry\n",
    "def workdays_between(t1: datetime, t2: datetime) -> int:\n",
    "    \"\"\"Returns number of workdays between the two dates, excluding t1, including t2\"\"\"\n",
    "    return sum(d.weekday() in [0, 1, 2, 3, 4] for d in pd.date_range(t1, t2, freq=\"d\")[1:])\n",
    "\n",
    "# Simplifying assumption: trading days are workdays (aka only weekends are not trading days)\n",
    "t0 = datetime.strptime(max(hist[\"Date\"]), dt_fmt)\n",
    "t_n_map = {x: workdays_between(t0, x) for x in opt[\"date\"].unique()}\n",
    "opt[\"t_n\"] = opt[\"date\"].map(t_n_map) / 252\n",
    "opt.sort_values([\"date\", \"strike\"])\n",
    "\n",
    "# Risk-'free' rates from  T-Bills\n",
    "# https://www.treasury.gov/resource-center/data-chart-center/interest-rates/Pages/TextView.aspx?data=billrates\n",
    "r = 0.09\n",
    "\n",
    "# Number of steps in the trees\n",
    "n = 50"
   ]
  },
  {
   "cell_type": "code",
   "execution_count": 12,
   "metadata": {},
   "outputs": [],
   "source": [
    "opt[\"call_sig\"] = opt.apply(lambda x: implied_vol(binom_tree, \n",
    "                                                  x[\"call\"], \n",
    "                                                  {\n",
    "                                                      \"s\": s0, \n",
    "                                                      \"k\": x[\"strike\"],\n",
    "                                                      \"r\": r,\n",
    "                                                      \"t\": x[\"t_n\"],\n",
    "                                                      \"n\": n,\n",
    "                                                      \"iv\": iv_call,\n",
    "                                                      \"fv\": fv_american\n",
    "                                                  }), axis=1)\n",
    "opt[\"put_sig\"] = opt.apply(lambda x: implied_vol(binom_tree, \n",
    "                                                 x[\"put\"], \n",
    "                                                 {\n",
    "                                                     \"s\": s0, \n",
    "                                                     \"k\": x[\"strike\"],\n",
    "                                                     \"r\": r,\n",
    "                                                     \"t\": x[\"t_n\"],\n",
    "                                                     \"n\": n,\n",
    "                                                     \"iv\": iv_put,\n",
    "                                                     \"fv\": fv_american\n",
    "                                                 }), axis=1)"
   ]
  },
  {
   "cell_type": "markdown",
   "metadata": {},
   "source": [
    "Expectations to be tested:\n",
    "\n",
    "- Put- vs Call- Volatilities: If it were European options, then the put-call parity should lead to the implied volatilities being equal. However, since those are american options, I would expect them to be close, but not equal.\n",
    "- Volatilities for different strikes: Due to the shortcomings of black scholes, tail dependence and the like, one would expect the volatilities for different strikes to be different, aka higher for large decreases in the stock price.\n",
    "- Implied volatilities should be in the range observed in the past. However, since in the volatility notebook I have seen that the past is an imperfect predictor I would be surprised if it were exactly the same. Also it will be interesting to see to what prior window the implied volatilities correspond.\n"
   ]
  },
  {
   "cell_type": "code",
   "execution_count": 21,
   "metadata": {
    "scrolled": false
   },
   "outputs": [
    {
     "data": {
      "application/vnd.plotly.v1+json": {
       "config": {
        "linkText": "Export to plot.ly",
        "plotlyServerURL": "https://plot.ly",
        "showLink": false
       },
       "data": [
        {
         "line": {
          "color": "#1f77b4",
          "dash": "solid"
         },
         "mode": "lines",
         "name": "Call-Implied volatility, t:28d",
         "type": "scatter",
         "x": [
          0.9040665938864628,
          0.9097525473071324,
          0.915438500727802,
          0.9211244541484715,
          0.9268104075691411,
          0.9324963609898107,
          0.9381823144104804,
          0.94386826783115,
          0.9495542212518195,
          0.9523971979621543,
          0.9552401746724891,
          0.9580831513828238,
          0.9609261280931587,
          0.9637691048034934,
          0.9666120815138283,
          0.969455058224163,
          0.9722980349344978,
          0.9751410116448326,
          0.9765625,
          0.9779839883551674,
          0.9794054767103347,
          0.9808269650655022,
          0.9822484534206696,
          0.983669941775837,
          0.9850914301310043,
          0.9865129184861717,
          0.9879344068413392,
          0.9893558951965066,
          0.9907773835516739,
          0.9921988719068413,
          0.9936203602620087,
          0.9950418486171762,
          0.9964633369723435,
          0.9978848253275109,
          0.9993063136826783,
          1.0007278020378456,
          1.0021492903930131,
          1.0035707787481805,
          1.0064137554585153,
          1.0092567321688501,
          1.0120997088791848,
          1.0149426855895196,
          1.0177856622998545,
          1.0206286390101893,
          1.023471615720524,
          1.0263145924308588,
          1.0291575691411936,
          1.034843522561863,
          1.0405294759825328,
          1.0462154294032022,
          1.051901382823872,
          1.0575873362445414,
          1.063273289665211,
          1.0689592430858805,
          1.0746451965065502,
          1.0803311499272197,
          1.0860171033478894,
          1.0917030567685588,
          1.0973890101892285
         ],
         "y": [
          0.28158057736110553,
          0.2827779616897538,
          0.2839501498877919,
          0.2875053196841505,
          0.2859269265377561,
          0.2896223782793084,
          0.2859061536714683,
          0.29013699958520395,
          0.291872736299816,
          0.2884896216869432,
          0.2871608772755523,
          0.28786081021336735,
          0.28830323037241634,
          0.28624465509659264,
          0.28693927807496805,
          0.2881219945016601,
          0.28953958547935266,
          0.28752290578544903,
          0.28698886389935724,
          0.2866824701041901,
          0.2870515590239823,
          0.28584969336022964,
          0.28778454909020257,
          0.28703295510433774,
          0.28784300680967656,
          0.28598415071871713,
          0.28634980099077606,
          0.28759809224836547,
          0.2850906099540945,
          0.2865563367531537,
          0.28625856851992204,
          0.28705760797025415,
          0.2880715745423409,
          0.28690005896923193,
          0.2870394233243454,
          0.28612707988881697,
          0.28376576051190366,
          0.2848733591757006,
          0.284276501101095,
          0.2828284825726745,
          0.2816069339658162,
          0.2816696593136437,
          0.27961992039021843,
          0.2794809146305969,
          0.2805986879802557,
          0.2808731505777529,
          0.27962528029277106,
          0.27895105865153164,
          0.2800534116611739,
          0.27895023251313755,
          0.28111669605720807,
          0.28087506341348345,
          0.2794499645646245,
          0.279536097130226,
          0.28060297755576047,
          0.2818958346704131,
          0.282374925258816,
          0.2814179708041527,
          0.2816864203473224
         ]
        },
        {
         "line": {
          "color": "#1f77b4",
          "dash": "dash"
         },
         "mode": "lines",
         "name": "Put-Implied volatility, t:28d",
         "type": "scatter",
         "x": [
          0.9040665938864628,
          0.9097525473071324,
          0.915438500727802,
          0.9211244541484715,
          0.9268104075691411,
          0.9324963609898107,
          0.9381823144104804,
          0.94386826783115,
          0.9495542212518195,
          0.9523971979621543,
          0.9552401746724891,
          0.9580831513828238,
          0.9609261280931587,
          0.9637691048034934,
          0.9666120815138283,
          0.969455058224163,
          0.9722980349344978,
          0.9751410116448326,
          0.9765625,
          0.9779839883551674,
          0.9794054767103347,
          0.9808269650655022,
          0.9822484534206696,
          0.983669941775837,
          0.9850914301310043,
          0.9865129184861717,
          0.9879344068413392,
          0.9893558951965066,
          0.9907773835516739,
          0.9921988719068413,
          0.9936203602620087,
          0.9950418486171762,
          0.9964633369723435,
          0.9978848253275109,
          0.9993063136826783,
          1.0007278020378456,
          1.0021492903930131,
          1.0035707787481805,
          1.0064137554585153,
          1.0092567321688501,
          1.0120997088791848,
          1.0149426855895196,
          1.0177856622998545,
          1.0206286390101893,
          1.023471615720524,
          1.0263145924308588,
          1.0291575691411936,
          1.034843522561863,
          1.0405294759825328,
          1.0462154294032022,
          1.051901382823872,
          1.0575873362445414,
          1.063273289665211,
          1.0689592430858805,
          1.0746451965065502,
          1.0803311499272197,
          1.0860171033478894,
          1.0917030567685588,
          1.0973890101892285
         ],
         "y": [
          0.3700668980487604,
          0.36589597179170597,
          0.36601446942035687,
          0.3588412552553789,
          0.35830377770416605,
          0.3578953652865953,
          0.3565390351236893,
          0.35371103108194474,
          0.35011861952097345,
          0.3479585922625234,
          0.3487668670191731,
          0.3473101900468943,
          0.3475553296080596,
          0.3472498898592838,
          0.3470471856188393,
          0.34699794183374305,
          0.346265659270894,
          0.3437423858467896,
          0.343146432411691,
          0.3432154924057975,
          0.3401656706586447,
          0.34134464061213143,
          0.3405217641377604,
          0.3399205503117883,
          0.34174016873041785,
          0.3402400669263905,
          0.34006267149110525,
          0.3409607916405589,
          0.3409687534506547,
          0.3409724198591833,
          0.33965539546729395,
          0.33874930018408517,
          0.33999657714102444,
          0.33836607532163104,
          0.338397620491454,
          0.3367240141251798,
          0.33905577575899853,
          0.33574590235129786,
          0.33389696271876906,
          0.3326702335848735,
          0.33443524177125805,
          0.33338896322048933,
          0.3308068804735542,
          0.332461687970271,
          0.3336242749982784,
          0.33109970711060077,
          0.3331438352445241,
          0.3308527714017494,
          0.3293254992802479,
          0.32879171204204927,
          0.3292012646370636,
          0.3304783360496746,
          0.33337136151824664,
          0.3320787307587957,
          0.33350028009642896,
          0.33311946857026087,
          0.33542706176954745,
          0.2,
          0.2
         ]
        },
        {
         "line": {
          "color": "#ff7f0e",
          "dash": "solid"
         },
         "mode": "lines",
         "name": "Call-Implied volatility, t:38d",
         "type": "scatter",
         "x": [
          0.9040665938864628,
          0.9069095705967977,
          0.9097525473071324,
          0.915438500727802,
          0.9211244541484715,
          0.9268104075691411,
          0.9324963609898107,
          0.9381823144104804,
          0.94386826783115,
          0.9467112445414847,
          0.9495542212518195,
          0.9523971979621543,
          0.9552401746724891,
          0.9580831513828238,
          0.9609261280931587,
          0.9637691048034934,
          0.9666120815138283,
          0.969455058224163,
          0.9722980349344978,
          0.9751410116448326,
          0.9779839883551674,
          0.9808269650655022,
          0.983669941775837,
          0.9865129184861717,
          0.9893558951965066,
          0.9921988719068413,
          0.9950418486171762,
          0.9978848253275109,
          1.0007278020378456,
          1.0035707787481805,
          1.0064137554585153,
          1.0092567321688501,
          1.0120997088791848,
          1.0149426855895196,
          1.0177856622998545,
          1.0206286390101893,
          1.023471615720524,
          1.0263145924308588,
          1.0291575691411936,
          1.0320005458515285,
          1.034843522561863,
          1.037686499272198,
          1.0405294759825328,
          1.0433724526928676,
          1.0462154294032022,
          1.049058406113537,
          1.051901382823872,
          1.0547443595342068,
          1.0575873362445414,
          1.0604303129548762,
          1.063273289665211,
          1.0689592430858805,
          1.0746451965065502,
          1.0803311499272197,
          1.0860171033478894,
          1.0917030567685588,
          1.0973890101892285
         ],
         "y": [
          0.2549170877803021,
          0.2566627699933138,
          0.2580231390520768,
          0.26176164383568534,
          0.2633656551793214,
          0.2627745860804745,
          0.2646301661459213,
          0.268311075239613,
          0.2669920576711191,
          0.26684043060125606,
          0.2669129749927947,
          0.26609902772173233,
          0.26617474583758044,
          0.26624966641683273,
          0.2674134975187512,
          0.2681313818056421,
          0.26797943590533657,
          0.27061646486839225,
          0.26952361861851376,
          0.26832333314733037,
          0.267329933717302,
          0.2675106161039354,
          0.26730342204262275,
          0.2670983188010929,
          0.26670418658064027,
          0.2672646516794584,
          0.26781948193914046,
          0.2691216281435066,
          0.26931963902932754,
          0.2681710168713947,
          0.26703380780633423,
          0.26646141777963706,
          0.2664454484282486,
          0.2660643124643408,
          0.2660504594054935,
          0.26639848003095334,
          0.26674312089096774,
          0.2670844399301903,
          0.2679573961617025,
          0.26636801857309145,
          0.2665702440027544,
          0.2654386154460142,
          0.26507543312130316,
          0.26415085981080383,
          0.26510945523164675,
          0.26512622098521227,
          0.2653284978335582,
          0.26534406257698506,
          0.2668313818926974,
          0.26679331208855295,
          0.26597528618949245,
          0.26499880579377044,
          0.26467038126213377,
          0.26517932601869076,
          0.26609109312452667,
          0.26841787680723794,
          0.26711807659598946
         ]
        },
        {
         "line": {
          "color": "#ff7f0e",
          "dash": "dash"
         },
         "mode": "lines",
         "name": "Put-Implied volatility, t:38d",
         "type": "scatter",
         "x": [
          0.9040665938864628,
          0.9069095705967977,
          0.9097525473071324,
          0.915438500727802,
          0.9211244541484715,
          0.9268104075691411,
          0.9324963609898107,
          0.9381823144104804,
          0.94386826783115,
          0.9467112445414847,
          0.9495542212518195,
          0.9523971979621543,
          0.9552401746724891,
          0.9580831513828238,
          0.9609261280931587,
          0.9637691048034934,
          0.9666120815138283,
          0.969455058224163,
          0.9722980349344978,
          0.9751410116448326,
          0.9779839883551674,
          0.9808269650655022,
          0.983669941775837,
          0.9865129184861717,
          0.9893558951965066,
          0.9921988719068413,
          0.9950418486171762,
          0.9978848253275109,
          1.0007278020378456,
          1.0035707787481805,
          1.0064137554585153,
          1.0092567321688501,
          1.0120997088791848,
          1.0149426855895196,
          1.0177856622998545,
          1.0206286390101893,
          1.023471615720524,
          1.0263145924308588,
          1.0291575691411936,
          1.0320005458515285,
          1.034843522561863,
          1.037686499272198,
          1.0405294759825328,
          1.0433724526928676,
          1.0462154294032022,
          1.049058406113537,
          1.051901382823872,
          1.0547443595342068,
          1.0575873362445414,
          1.0604303129548762,
          1.063273289665211,
          1.0689592430858805,
          1.0746451965065502,
          1.0803311499272197,
          1.0860171033478894,
          1.0917030567685588,
          1.0973890101892285
         ],
         "y": [
          0.35855097600766805,
          0.357193784727962,
          0.35610027548949935,
          0.3543921737413455,
          0.353624486276059,
          0.35239578334482763,
          0.34893819624629985,
          0.34614975198034353,
          0.3433678902832469,
          0.34348531857709846,
          0.3427043993818598,
          0.3425537864889712,
          0.34153074510171766,
          0.34086362677735244,
          0.34179606941687096,
          0.34121706296867266,
          0.33928257479057095,
          0.33812021599980807,
          0.336372821965535,
          0.33598405516383484,
          0.33480600193576376,
          0.33477370030127657,
          0.3331918976424007,
          0.33442378923739197,
          0.33297632763954954,
          0.3333858890499666,
          0.33238933367939055,
          0.3337349951111089,
          0.3336055281483153,
          0.33280652145712236,
          0.33012287045767685,
          0.3302270301620718,
          0.32976257061760855,
          0.32927084750383245,
          0.327655689478953,
          0.3283945587335258,
          0.32852907417654603,
          0.329004801488135,
          0.3286737696092214,
          0.3302776099405746,
          0.3302946133221685,
          0.3299831776902171,
          0.32908373340578456,
          0.3275635112238275,
          0.3283695180288698,
          0.3285662498812393,
          0.32579452121639474,
          0.3280714774299398,
          0.3283452296851054,
          0.3275646117417828,
          0.32752698221606547,
          0.32977525220018816,
          0.33280280915627763,
          0.33139294146507814,
          0.33071687871137223,
          0.33330073011897093,
          0.3317589762984979
         ]
        }
       ],
       "layout": {
        "template": {
         "data": {
          "bar": [
           {
            "error_x": {
             "color": "#2a3f5f"
            },
            "error_y": {
             "color": "#2a3f5f"
            },
            "marker": {
             "line": {
              "color": "#E5ECF6",
              "width": 0.5
             }
            },
            "type": "bar"
           }
          ],
          "barpolar": [
           {
            "marker": {
             "line": {
              "color": "#E5ECF6",
              "width": 0.5
             }
            },
            "type": "barpolar"
           }
          ],
          "carpet": [
           {
            "aaxis": {
             "endlinecolor": "#2a3f5f",
             "gridcolor": "white",
             "linecolor": "white",
             "minorgridcolor": "white",
             "startlinecolor": "#2a3f5f"
            },
            "baxis": {
             "endlinecolor": "#2a3f5f",
             "gridcolor": "white",
             "linecolor": "white",
             "minorgridcolor": "white",
             "startlinecolor": "#2a3f5f"
            },
            "type": "carpet"
           }
          ],
          "choropleth": [
           {
            "colorbar": {
             "outlinewidth": 0,
             "ticks": ""
            },
            "type": "choropleth"
           }
          ],
          "contour": [
           {
            "colorbar": {
             "outlinewidth": 0,
             "ticks": ""
            },
            "colorscale": [
             [
              0,
              "#0d0887"
             ],
             [
              0.1111111111111111,
              "#46039f"
             ],
             [
              0.2222222222222222,
              "#7201a8"
             ],
             [
              0.3333333333333333,
              "#9c179e"
             ],
             [
              0.4444444444444444,
              "#bd3786"
             ],
             [
              0.5555555555555556,
              "#d8576b"
             ],
             [
              0.6666666666666666,
              "#ed7953"
             ],
             [
              0.7777777777777778,
              "#fb9f3a"
             ],
             [
              0.8888888888888888,
              "#fdca26"
             ],
             [
              1,
              "#f0f921"
             ]
            ],
            "type": "contour"
           }
          ],
          "contourcarpet": [
           {
            "colorbar": {
             "outlinewidth": 0,
             "ticks": ""
            },
            "type": "contourcarpet"
           }
          ],
          "heatmap": [
           {
            "colorbar": {
             "outlinewidth": 0,
             "ticks": ""
            },
            "colorscale": [
             [
              0,
              "#0d0887"
             ],
             [
              0.1111111111111111,
              "#46039f"
             ],
             [
              0.2222222222222222,
              "#7201a8"
             ],
             [
              0.3333333333333333,
              "#9c179e"
             ],
             [
              0.4444444444444444,
              "#bd3786"
             ],
             [
              0.5555555555555556,
              "#d8576b"
             ],
             [
              0.6666666666666666,
              "#ed7953"
             ],
             [
              0.7777777777777778,
              "#fb9f3a"
             ],
             [
              0.8888888888888888,
              "#fdca26"
             ],
             [
              1,
              "#f0f921"
             ]
            ],
            "type": "heatmap"
           }
          ],
          "heatmapgl": [
           {
            "colorbar": {
             "outlinewidth": 0,
             "ticks": ""
            },
            "colorscale": [
             [
              0,
              "#0d0887"
             ],
             [
              0.1111111111111111,
              "#46039f"
             ],
             [
              0.2222222222222222,
              "#7201a8"
             ],
             [
              0.3333333333333333,
              "#9c179e"
             ],
             [
              0.4444444444444444,
              "#bd3786"
             ],
             [
              0.5555555555555556,
              "#d8576b"
             ],
             [
              0.6666666666666666,
              "#ed7953"
             ],
             [
              0.7777777777777778,
              "#fb9f3a"
             ],
             [
              0.8888888888888888,
              "#fdca26"
             ],
             [
              1,
              "#f0f921"
             ]
            ],
            "type": "heatmapgl"
           }
          ],
          "histogram": [
           {
            "marker": {
             "colorbar": {
              "outlinewidth": 0,
              "ticks": ""
             }
            },
            "type": "histogram"
           }
          ],
          "histogram2d": [
           {
            "colorbar": {
             "outlinewidth": 0,
             "ticks": ""
            },
            "colorscale": [
             [
              0,
              "#0d0887"
             ],
             [
              0.1111111111111111,
              "#46039f"
             ],
             [
              0.2222222222222222,
              "#7201a8"
             ],
             [
              0.3333333333333333,
              "#9c179e"
             ],
             [
              0.4444444444444444,
              "#bd3786"
             ],
             [
              0.5555555555555556,
              "#d8576b"
             ],
             [
              0.6666666666666666,
              "#ed7953"
             ],
             [
              0.7777777777777778,
              "#fb9f3a"
             ],
             [
              0.8888888888888888,
              "#fdca26"
             ],
             [
              1,
              "#f0f921"
             ]
            ],
            "type": "histogram2d"
           }
          ],
          "histogram2dcontour": [
           {
            "colorbar": {
             "outlinewidth": 0,
             "ticks": ""
            },
            "colorscale": [
             [
              0,
              "#0d0887"
             ],
             [
              0.1111111111111111,
              "#46039f"
             ],
             [
              0.2222222222222222,
              "#7201a8"
             ],
             [
              0.3333333333333333,
              "#9c179e"
             ],
             [
              0.4444444444444444,
              "#bd3786"
             ],
             [
              0.5555555555555556,
              "#d8576b"
             ],
             [
              0.6666666666666666,
              "#ed7953"
             ],
             [
              0.7777777777777778,
              "#fb9f3a"
             ],
             [
              0.8888888888888888,
              "#fdca26"
             ],
             [
              1,
              "#f0f921"
             ]
            ],
            "type": "histogram2dcontour"
           }
          ],
          "mesh3d": [
           {
            "colorbar": {
             "outlinewidth": 0,
             "ticks": ""
            },
            "type": "mesh3d"
           }
          ],
          "parcoords": [
           {
            "line": {
             "colorbar": {
              "outlinewidth": 0,
              "ticks": ""
             }
            },
            "type": "parcoords"
           }
          ],
          "pie": [
           {
            "automargin": true,
            "type": "pie"
           }
          ],
          "scatter": [
           {
            "marker": {
             "colorbar": {
              "outlinewidth": 0,
              "ticks": ""
             }
            },
            "type": "scatter"
           }
          ],
          "scatter3d": [
           {
            "line": {
             "colorbar": {
              "outlinewidth": 0,
              "ticks": ""
             }
            },
            "marker": {
             "colorbar": {
              "outlinewidth": 0,
              "ticks": ""
             }
            },
            "type": "scatter3d"
           }
          ],
          "scattercarpet": [
           {
            "marker": {
             "colorbar": {
              "outlinewidth": 0,
              "ticks": ""
             }
            },
            "type": "scattercarpet"
           }
          ],
          "scattergeo": [
           {
            "marker": {
             "colorbar": {
              "outlinewidth": 0,
              "ticks": ""
             }
            },
            "type": "scattergeo"
           }
          ],
          "scattergl": [
           {
            "marker": {
             "colorbar": {
              "outlinewidth": 0,
              "ticks": ""
             }
            },
            "type": "scattergl"
           }
          ],
          "scattermapbox": [
           {
            "marker": {
             "colorbar": {
              "outlinewidth": 0,
              "ticks": ""
             }
            },
            "type": "scattermapbox"
           }
          ],
          "scatterpolar": [
           {
            "marker": {
             "colorbar": {
              "outlinewidth": 0,
              "ticks": ""
             }
            },
            "type": "scatterpolar"
           }
          ],
          "scatterpolargl": [
           {
            "marker": {
             "colorbar": {
              "outlinewidth": 0,
              "ticks": ""
             }
            },
            "type": "scatterpolargl"
           }
          ],
          "scatterternary": [
           {
            "marker": {
             "colorbar": {
              "outlinewidth": 0,
              "ticks": ""
             }
            },
            "type": "scatterternary"
           }
          ],
          "surface": [
           {
            "colorbar": {
             "outlinewidth": 0,
             "ticks": ""
            },
            "colorscale": [
             [
              0,
              "#0d0887"
             ],
             [
              0.1111111111111111,
              "#46039f"
             ],
             [
              0.2222222222222222,
              "#7201a8"
             ],
             [
              0.3333333333333333,
              "#9c179e"
             ],
             [
              0.4444444444444444,
              "#bd3786"
             ],
             [
              0.5555555555555556,
              "#d8576b"
             ],
             [
              0.6666666666666666,
              "#ed7953"
             ],
             [
              0.7777777777777778,
              "#fb9f3a"
             ],
             [
              0.8888888888888888,
              "#fdca26"
             ],
             [
              1,
              "#f0f921"
             ]
            ],
            "type": "surface"
           }
          ],
          "table": [
           {
            "cells": {
             "fill": {
              "color": "#EBF0F8"
             },
             "line": {
              "color": "white"
             }
            },
            "header": {
             "fill": {
              "color": "#C8D4E3"
             },
             "line": {
              "color": "white"
             }
            },
            "type": "table"
           }
          ]
         },
         "layout": {
          "annotationdefaults": {
           "arrowcolor": "#2a3f5f",
           "arrowhead": 0,
           "arrowwidth": 1
          },
          "autotypenumbers": "strict",
          "coloraxis": {
           "colorbar": {
            "outlinewidth": 0,
            "ticks": ""
           }
          },
          "colorscale": {
           "diverging": [
            [
             0,
             "#8e0152"
            ],
            [
             0.1,
             "#c51b7d"
            ],
            [
             0.2,
             "#de77ae"
            ],
            [
             0.3,
             "#f1b6da"
            ],
            [
             0.4,
             "#fde0ef"
            ],
            [
             0.5,
             "#f7f7f7"
            ],
            [
             0.6,
             "#e6f5d0"
            ],
            [
             0.7,
             "#b8e186"
            ],
            [
             0.8,
             "#7fbc41"
            ],
            [
             0.9,
             "#4d9221"
            ],
            [
             1,
             "#276419"
            ]
           ],
           "sequential": [
            [
             0,
             "#0d0887"
            ],
            [
             0.1111111111111111,
             "#46039f"
            ],
            [
             0.2222222222222222,
             "#7201a8"
            ],
            [
             0.3333333333333333,
             "#9c179e"
            ],
            [
             0.4444444444444444,
             "#bd3786"
            ],
            [
             0.5555555555555556,
             "#d8576b"
            ],
            [
             0.6666666666666666,
             "#ed7953"
            ],
            [
             0.7777777777777778,
             "#fb9f3a"
            ],
            [
             0.8888888888888888,
             "#fdca26"
            ],
            [
             1,
             "#f0f921"
            ]
           ],
           "sequentialminus": [
            [
             0,
             "#0d0887"
            ],
            [
             0.1111111111111111,
             "#46039f"
            ],
            [
             0.2222222222222222,
             "#7201a8"
            ],
            [
             0.3333333333333333,
             "#9c179e"
            ],
            [
             0.4444444444444444,
             "#bd3786"
            ],
            [
             0.5555555555555556,
             "#d8576b"
            ],
            [
             0.6666666666666666,
             "#ed7953"
            ],
            [
             0.7777777777777778,
             "#fb9f3a"
            ],
            [
             0.8888888888888888,
             "#fdca26"
            ],
            [
             1,
             "#f0f921"
            ]
           ]
          },
          "colorway": [
           "#636efa",
           "#EF553B",
           "#00cc96",
           "#ab63fa",
           "#FFA15A",
           "#19d3f3",
           "#FF6692",
           "#B6E880",
           "#FF97FF",
           "#FECB52"
          ],
          "font": {
           "color": "#2a3f5f"
          },
          "geo": {
           "bgcolor": "white",
           "lakecolor": "white",
           "landcolor": "#E5ECF6",
           "showlakes": true,
           "showland": true,
           "subunitcolor": "white"
          },
          "hoverlabel": {
           "align": "left"
          },
          "hovermode": "closest",
          "mapbox": {
           "style": "light"
          },
          "paper_bgcolor": "white",
          "plot_bgcolor": "#E5ECF6",
          "polar": {
           "angularaxis": {
            "gridcolor": "white",
            "linecolor": "white",
            "ticks": ""
           },
           "bgcolor": "#E5ECF6",
           "radialaxis": {
            "gridcolor": "white",
            "linecolor": "white",
            "ticks": ""
           }
          },
          "scene": {
           "xaxis": {
            "backgroundcolor": "#E5ECF6",
            "gridcolor": "white",
            "gridwidth": 2,
            "linecolor": "white",
            "showbackground": true,
            "ticks": "",
            "zerolinecolor": "white"
           },
           "yaxis": {
            "backgroundcolor": "#E5ECF6",
            "gridcolor": "white",
            "gridwidth": 2,
            "linecolor": "white",
            "showbackground": true,
            "ticks": "",
            "zerolinecolor": "white"
           },
           "zaxis": {
            "backgroundcolor": "#E5ECF6",
            "gridcolor": "white",
            "gridwidth": 2,
            "linecolor": "white",
            "showbackground": true,
            "ticks": "",
            "zerolinecolor": "white"
           }
          },
          "shapedefaults": {
           "line": {
            "color": "#2a3f5f"
           }
          },
          "ternary": {
           "aaxis": {
            "gridcolor": "white",
            "linecolor": "white",
            "ticks": ""
           },
           "baxis": {
            "gridcolor": "white",
            "linecolor": "white",
            "ticks": ""
           },
           "bgcolor": "#E5ECF6",
           "caxis": {
            "gridcolor": "white",
            "linecolor": "white",
            "ticks": ""
           }
          },
          "title": {
           "x": 0.05
          },
          "xaxis": {
           "automargin": true,
           "gridcolor": "white",
           "linecolor": "white",
           "ticks": "",
           "title": {
            "standoff": 15
           },
           "zerolinecolor": "white",
           "zerolinewidth": 2
          },
          "yaxis": {
           "automargin": true,
           "gridcolor": "white",
           "linecolor": "white",
           "ticks": "",
           "title": {
            "standoff": 15
           },
           "zerolinecolor": "white",
           "zerolinewidth": 2
          }
         }
        },
        "title": {
         "text": "Volatility smile for GOOG"
        },
        "xaxis": {
         "title": {
          "text": "K/S"
         }
        },
        "yaxis": {
         "title": {
          "text": "Implied volatility"
         }
        }
       }
      },
      "text/html": [
       "<div>                            <div id=\"d9421ad8-cf01-43df-8f0c-5a7c3bd28b6a\" class=\"plotly-graph-div\" style=\"height:525px; width:100%;\"></div>            <script type=\"text/javascript\">                require([\"plotly\"], function(Plotly) {                    window.PLOTLYENV=window.PLOTLYENV || {};                                    if (document.getElementById(\"d9421ad8-cf01-43df-8f0c-5a7c3bd28b6a\")) {                    Plotly.newPlot(                        \"d9421ad8-cf01-43df-8f0c-5a7c3bd28b6a\",                        [{\"line\": {\"color\": \"#1f77b4\", \"dash\": \"solid\"}, \"mode\": \"lines\", \"name\": \"Call-Implied volatility, t:28d\", \"type\": \"scatter\", \"x\": [0.9040665938864628, 0.9097525473071324, 0.915438500727802, 0.9211244541484715, 0.9268104075691411, 0.9324963609898107, 0.9381823144104804, 0.94386826783115, 0.9495542212518195, 0.9523971979621543, 0.9552401746724891, 0.9580831513828238, 0.9609261280931587, 0.9637691048034934, 0.9666120815138283, 0.969455058224163, 0.9722980349344978, 0.9751410116448326, 0.9765625, 0.9779839883551674, 0.9794054767103347, 0.9808269650655022, 0.9822484534206696, 0.983669941775837, 0.9850914301310043, 0.9865129184861717, 0.9879344068413392, 0.9893558951965066, 0.9907773835516739, 0.9921988719068413, 0.9936203602620087, 0.9950418486171762, 0.9964633369723435, 0.9978848253275109, 0.9993063136826783, 1.0007278020378456, 1.0021492903930131, 1.0035707787481805, 1.0064137554585153, 1.0092567321688501, 1.0120997088791848, 1.0149426855895196, 1.0177856622998545, 1.0206286390101893, 1.023471615720524, 1.0263145924308588, 1.0291575691411936, 1.034843522561863, 1.0405294759825328, 1.0462154294032022, 1.051901382823872, 1.0575873362445414, 1.063273289665211, 1.0689592430858805, 1.0746451965065502, 1.0803311499272197, 1.0860171033478894, 1.0917030567685588, 1.0973890101892285], \"y\": [0.28158057736110553, 0.2827779616897538, 0.2839501498877919, 0.2875053196841505, 0.2859269265377561, 0.2896223782793084, 0.2859061536714683, 0.29013699958520395, 0.291872736299816, 0.2884896216869432, 0.2871608772755523, 0.28786081021336735, 0.28830323037241634, 0.28624465509659264, 0.28693927807496805, 0.2881219945016601, 0.28953958547935266, 0.28752290578544903, 0.28698886389935724, 0.2866824701041901, 0.2870515590239823, 0.28584969336022964, 0.28778454909020257, 0.28703295510433774, 0.28784300680967656, 0.28598415071871713, 0.28634980099077606, 0.28759809224836547, 0.2850906099540945, 0.2865563367531537, 0.28625856851992204, 0.28705760797025415, 0.2880715745423409, 0.28690005896923193, 0.2870394233243454, 0.28612707988881697, 0.28376576051190366, 0.2848733591757006, 0.284276501101095, 0.2828284825726745, 0.2816069339658162, 0.2816696593136437, 0.27961992039021843, 0.2794809146305969, 0.2805986879802557, 0.2808731505777529, 0.27962528029277106, 0.27895105865153164, 0.2800534116611739, 0.27895023251313755, 0.28111669605720807, 0.28087506341348345, 0.2794499645646245, 0.279536097130226, 0.28060297755576047, 0.2818958346704131, 0.282374925258816, 0.2814179708041527, 0.2816864203473224]}, {\"line\": {\"color\": \"#1f77b4\", \"dash\": \"dash\"}, \"mode\": \"lines\", \"name\": \"Put-Implied volatility, t:28d\", \"type\": \"scatter\", \"x\": [0.9040665938864628, 0.9097525473071324, 0.915438500727802, 0.9211244541484715, 0.9268104075691411, 0.9324963609898107, 0.9381823144104804, 0.94386826783115, 0.9495542212518195, 0.9523971979621543, 0.9552401746724891, 0.9580831513828238, 0.9609261280931587, 0.9637691048034934, 0.9666120815138283, 0.969455058224163, 0.9722980349344978, 0.9751410116448326, 0.9765625, 0.9779839883551674, 0.9794054767103347, 0.9808269650655022, 0.9822484534206696, 0.983669941775837, 0.9850914301310043, 0.9865129184861717, 0.9879344068413392, 0.9893558951965066, 0.9907773835516739, 0.9921988719068413, 0.9936203602620087, 0.9950418486171762, 0.9964633369723435, 0.9978848253275109, 0.9993063136826783, 1.0007278020378456, 1.0021492903930131, 1.0035707787481805, 1.0064137554585153, 1.0092567321688501, 1.0120997088791848, 1.0149426855895196, 1.0177856622998545, 1.0206286390101893, 1.023471615720524, 1.0263145924308588, 1.0291575691411936, 1.034843522561863, 1.0405294759825328, 1.0462154294032022, 1.051901382823872, 1.0575873362445414, 1.063273289665211, 1.0689592430858805, 1.0746451965065502, 1.0803311499272197, 1.0860171033478894, 1.0917030567685588, 1.0973890101892285], \"y\": [0.3700668980487604, 0.36589597179170597, 0.36601446942035687, 0.3588412552553789, 0.35830377770416605, 0.3578953652865953, 0.3565390351236893, 0.35371103108194474, 0.35011861952097345, 0.3479585922625234, 0.3487668670191731, 0.3473101900468943, 0.3475553296080596, 0.3472498898592838, 0.3470471856188393, 0.34699794183374305, 0.346265659270894, 0.3437423858467896, 0.343146432411691, 0.3432154924057975, 0.3401656706586447, 0.34134464061213143, 0.3405217641377604, 0.3399205503117883, 0.34174016873041785, 0.3402400669263905, 0.34006267149110525, 0.3409607916405589, 0.3409687534506547, 0.3409724198591833, 0.33965539546729395, 0.33874930018408517, 0.33999657714102444, 0.33836607532163104, 0.338397620491454, 0.3367240141251798, 0.33905577575899853, 0.33574590235129786, 0.33389696271876906, 0.3326702335848735, 0.33443524177125805, 0.33338896322048933, 0.3308068804735542, 0.332461687970271, 0.3336242749982784, 0.33109970711060077, 0.3331438352445241, 0.3308527714017494, 0.3293254992802479, 0.32879171204204927, 0.3292012646370636, 0.3304783360496746, 0.33337136151824664, 0.3320787307587957, 0.33350028009642896, 0.33311946857026087, 0.33542706176954745, 0.2, 0.2]}, {\"line\": {\"color\": \"#ff7f0e\", \"dash\": \"solid\"}, \"mode\": \"lines\", \"name\": \"Call-Implied volatility, t:38d\", \"type\": \"scatter\", \"x\": [0.9040665938864628, 0.9069095705967977, 0.9097525473071324, 0.915438500727802, 0.9211244541484715, 0.9268104075691411, 0.9324963609898107, 0.9381823144104804, 0.94386826783115, 0.9467112445414847, 0.9495542212518195, 0.9523971979621543, 0.9552401746724891, 0.9580831513828238, 0.9609261280931587, 0.9637691048034934, 0.9666120815138283, 0.969455058224163, 0.9722980349344978, 0.9751410116448326, 0.9779839883551674, 0.9808269650655022, 0.983669941775837, 0.9865129184861717, 0.9893558951965066, 0.9921988719068413, 0.9950418486171762, 0.9978848253275109, 1.0007278020378456, 1.0035707787481805, 1.0064137554585153, 1.0092567321688501, 1.0120997088791848, 1.0149426855895196, 1.0177856622998545, 1.0206286390101893, 1.023471615720524, 1.0263145924308588, 1.0291575691411936, 1.0320005458515285, 1.034843522561863, 1.037686499272198, 1.0405294759825328, 1.0433724526928676, 1.0462154294032022, 1.049058406113537, 1.051901382823872, 1.0547443595342068, 1.0575873362445414, 1.0604303129548762, 1.063273289665211, 1.0689592430858805, 1.0746451965065502, 1.0803311499272197, 1.0860171033478894, 1.0917030567685588, 1.0973890101892285], \"y\": [0.2549170877803021, 0.2566627699933138, 0.2580231390520768, 0.26176164383568534, 0.2633656551793214, 0.2627745860804745, 0.2646301661459213, 0.268311075239613, 0.2669920576711191, 0.26684043060125606, 0.2669129749927947, 0.26609902772173233, 0.26617474583758044, 0.26624966641683273, 0.2674134975187512, 0.2681313818056421, 0.26797943590533657, 0.27061646486839225, 0.26952361861851376, 0.26832333314733037, 0.267329933717302, 0.2675106161039354, 0.26730342204262275, 0.2670983188010929, 0.26670418658064027, 0.2672646516794584, 0.26781948193914046, 0.2691216281435066, 0.26931963902932754, 0.2681710168713947, 0.26703380780633423, 0.26646141777963706, 0.2664454484282486, 0.2660643124643408, 0.2660504594054935, 0.26639848003095334, 0.26674312089096774, 0.2670844399301903, 0.2679573961617025, 0.26636801857309145, 0.2665702440027544, 0.2654386154460142, 0.26507543312130316, 0.26415085981080383, 0.26510945523164675, 0.26512622098521227, 0.2653284978335582, 0.26534406257698506, 0.2668313818926974, 0.26679331208855295, 0.26597528618949245, 0.26499880579377044, 0.26467038126213377, 0.26517932601869076, 0.26609109312452667, 0.26841787680723794, 0.26711807659598946]}, {\"line\": {\"color\": \"#ff7f0e\", \"dash\": \"dash\"}, \"mode\": \"lines\", \"name\": \"Put-Implied volatility, t:38d\", \"type\": \"scatter\", \"x\": [0.9040665938864628, 0.9069095705967977, 0.9097525473071324, 0.915438500727802, 0.9211244541484715, 0.9268104075691411, 0.9324963609898107, 0.9381823144104804, 0.94386826783115, 0.9467112445414847, 0.9495542212518195, 0.9523971979621543, 0.9552401746724891, 0.9580831513828238, 0.9609261280931587, 0.9637691048034934, 0.9666120815138283, 0.969455058224163, 0.9722980349344978, 0.9751410116448326, 0.9779839883551674, 0.9808269650655022, 0.983669941775837, 0.9865129184861717, 0.9893558951965066, 0.9921988719068413, 0.9950418486171762, 0.9978848253275109, 1.0007278020378456, 1.0035707787481805, 1.0064137554585153, 1.0092567321688501, 1.0120997088791848, 1.0149426855895196, 1.0177856622998545, 1.0206286390101893, 1.023471615720524, 1.0263145924308588, 1.0291575691411936, 1.0320005458515285, 1.034843522561863, 1.037686499272198, 1.0405294759825328, 1.0433724526928676, 1.0462154294032022, 1.049058406113537, 1.051901382823872, 1.0547443595342068, 1.0575873362445414, 1.0604303129548762, 1.063273289665211, 1.0689592430858805, 1.0746451965065502, 1.0803311499272197, 1.0860171033478894, 1.0917030567685588, 1.0973890101892285], \"y\": [0.35855097600766805, 0.357193784727962, 0.35610027548949935, 0.3543921737413455, 0.353624486276059, 0.35239578334482763, 0.34893819624629985, 0.34614975198034353, 0.3433678902832469, 0.34348531857709846, 0.3427043993818598, 0.3425537864889712, 0.34153074510171766, 0.34086362677735244, 0.34179606941687096, 0.34121706296867266, 0.33928257479057095, 0.33812021599980807, 0.336372821965535, 0.33598405516383484, 0.33480600193576376, 0.33477370030127657, 0.3331918976424007, 0.33442378923739197, 0.33297632763954954, 0.3333858890499666, 0.33238933367939055, 0.3337349951111089, 0.3336055281483153, 0.33280652145712236, 0.33012287045767685, 0.3302270301620718, 0.32976257061760855, 0.32927084750383245, 0.327655689478953, 0.3283945587335258, 0.32852907417654603, 0.329004801488135, 0.3286737696092214, 0.3302776099405746, 0.3302946133221685, 0.3299831776902171, 0.32908373340578456, 0.3275635112238275, 0.3283695180288698, 0.3285662498812393, 0.32579452121639474, 0.3280714774299398, 0.3283452296851054, 0.3275646117417828, 0.32752698221606547, 0.32977525220018816, 0.33280280915627763, 0.33139294146507814, 0.33071687871137223, 0.33330073011897093, 0.3317589762984979]}],                        {\"template\": {\"data\": {\"bar\": [{\"error_x\": {\"color\": \"#2a3f5f\"}, \"error_y\": {\"color\": \"#2a3f5f\"}, \"marker\": {\"line\": {\"color\": \"#E5ECF6\", \"width\": 0.5}}, \"type\": \"bar\"}], \"barpolar\": [{\"marker\": {\"line\": {\"color\": \"#E5ECF6\", \"width\": 0.5}}, \"type\": \"barpolar\"}], \"carpet\": [{\"aaxis\": {\"endlinecolor\": \"#2a3f5f\", \"gridcolor\": \"white\", \"linecolor\": \"white\", \"minorgridcolor\": \"white\", \"startlinecolor\": \"#2a3f5f\"}, \"baxis\": {\"endlinecolor\": \"#2a3f5f\", \"gridcolor\": \"white\", \"linecolor\": \"white\", \"minorgridcolor\": \"white\", \"startlinecolor\": \"#2a3f5f\"}, \"type\": \"carpet\"}], \"choropleth\": [{\"colorbar\": {\"outlinewidth\": 0, \"ticks\": \"\"}, \"type\": \"choropleth\"}], \"contour\": [{\"colorbar\": {\"outlinewidth\": 0, \"ticks\": \"\"}, \"colorscale\": [[0.0, \"#0d0887\"], [0.1111111111111111, \"#46039f\"], [0.2222222222222222, \"#7201a8\"], [0.3333333333333333, \"#9c179e\"], [0.4444444444444444, \"#bd3786\"], [0.5555555555555556, \"#d8576b\"], [0.6666666666666666, \"#ed7953\"], [0.7777777777777778, \"#fb9f3a\"], [0.8888888888888888, \"#fdca26\"], [1.0, \"#f0f921\"]], \"type\": \"contour\"}], \"contourcarpet\": [{\"colorbar\": {\"outlinewidth\": 0, \"ticks\": \"\"}, \"type\": \"contourcarpet\"}], \"heatmap\": [{\"colorbar\": {\"outlinewidth\": 0, \"ticks\": \"\"}, \"colorscale\": [[0.0, \"#0d0887\"], [0.1111111111111111, \"#46039f\"], [0.2222222222222222, \"#7201a8\"], [0.3333333333333333, \"#9c179e\"], [0.4444444444444444, \"#bd3786\"], [0.5555555555555556, \"#d8576b\"], [0.6666666666666666, \"#ed7953\"], [0.7777777777777778, \"#fb9f3a\"], [0.8888888888888888, \"#fdca26\"], [1.0, \"#f0f921\"]], \"type\": \"heatmap\"}], \"heatmapgl\": [{\"colorbar\": {\"outlinewidth\": 0, \"ticks\": \"\"}, \"colorscale\": [[0.0, \"#0d0887\"], [0.1111111111111111, \"#46039f\"], [0.2222222222222222, \"#7201a8\"], [0.3333333333333333, \"#9c179e\"], [0.4444444444444444, \"#bd3786\"], [0.5555555555555556, \"#d8576b\"], [0.6666666666666666, \"#ed7953\"], [0.7777777777777778, \"#fb9f3a\"], [0.8888888888888888, \"#fdca26\"], [1.0, \"#f0f921\"]], \"type\": \"heatmapgl\"}], \"histogram\": [{\"marker\": {\"colorbar\": {\"outlinewidth\": 0, \"ticks\": \"\"}}, \"type\": \"histogram\"}], \"histogram2d\": [{\"colorbar\": {\"outlinewidth\": 0, \"ticks\": \"\"}, \"colorscale\": [[0.0, \"#0d0887\"], [0.1111111111111111, \"#46039f\"], [0.2222222222222222, \"#7201a8\"], [0.3333333333333333, \"#9c179e\"], [0.4444444444444444, \"#bd3786\"], [0.5555555555555556, \"#d8576b\"], [0.6666666666666666, \"#ed7953\"], [0.7777777777777778, \"#fb9f3a\"], [0.8888888888888888, \"#fdca26\"], [1.0, \"#f0f921\"]], \"type\": \"histogram2d\"}], \"histogram2dcontour\": [{\"colorbar\": {\"outlinewidth\": 0, \"ticks\": \"\"}, \"colorscale\": [[0.0, \"#0d0887\"], [0.1111111111111111, \"#46039f\"], [0.2222222222222222, \"#7201a8\"], [0.3333333333333333, \"#9c179e\"], [0.4444444444444444, \"#bd3786\"], [0.5555555555555556, \"#d8576b\"], [0.6666666666666666, \"#ed7953\"], [0.7777777777777778, \"#fb9f3a\"], [0.8888888888888888, \"#fdca26\"], [1.0, \"#f0f921\"]], \"type\": \"histogram2dcontour\"}], \"mesh3d\": [{\"colorbar\": {\"outlinewidth\": 0, \"ticks\": \"\"}, \"type\": \"mesh3d\"}], \"parcoords\": [{\"line\": {\"colorbar\": {\"outlinewidth\": 0, \"ticks\": \"\"}}, \"type\": \"parcoords\"}], \"pie\": [{\"automargin\": true, \"type\": \"pie\"}], \"scatter\": [{\"marker\": {\"colorbar\": {\"outlinewidth\": 0, \"ticks\": \"\"}}, \"type\": \"scatter\"}], \"scatter3d\": [{\"line\": {\"colorbar\": {\"outlinewidth\": 0, \"ticks\": \"\"}}, \"marker\": {\"colorbar\": {\"outlinewidth\": 0, \"ticks\": \"\"}}, \"type\": \"scatter3d\"}], \"scattercarpet\": [{\"marker\": {\"colorbar\": {\"outlinewidth\": 0, \"ticks\": \"\"}}, \"type\": \"scattercarpet\"}], \"scattergeo\": [{\"marker\": {\"colorbar\": {\"outlinewidth\": 0, \"ticks\": \"\"}}, \"type\": \"scattergeo\"}], \"scattergl\": [{\"marker\": {\"colorbar\": {\"outlinewidth\": 0, \"ticks\": \"\"}}, \"type\": \"scattergl\"}], \"scattermapbox\": [{\"marker\": {\"colorbar\": {\"outlinewidth\": 0, \"ticks\": \"\"}}, \"type\": \"scattermapbox\"}], \"scatterpolar\": [{\"marker\": {\"colorbar\": {\"outlinewidth\": 0, \"ticks\": \"\"}}, \"type\": \"scatterpolar\"}], \"scatterpolargl\": [{\"marker\": {\"colorbar\": {\"outlinewidth\": 0, \"ticks\": \"\"}}, \"type\": \"scatterpolargl\"}], \"scatterternary\": [{\"marker\": {\"colorbar\": {\"outlinewidth\": 0, \"ticks\": \"\"}}, \"type\": \"scatterternary\"}], \"surface\": [{\"colorbar\": {\"outlinewidth\": 0, \"ticks\": \"\"}, \"colorscale\": [[0.0, \"#0d0887\"], [0.1111111111111111, \"#46039f\"], [0.2222222222222222, \"#7201a8\"], [0.3333333333333333, \"#9c179e\"], [0.4444444444444444, \"#bd3786\"], [0.5555555555555556, \"#d8576b\"], [0.6666666666666666, \"#ed7953\"], [0.7777777777777778, \"#fb9f3a\"], [0.8888888888888888, \"#fdca26\"], [1.0, \"#f0f921\"]], \"type\": \"surface\"}], \"table\": [{\"cells\": {\"fill\": {\"color\": \"#EBF0F8\"}, \"line\": {\"color\": \"white\"}}, \"header\": {\"fill\": {\"color\": \"#C8D4E3\"}, \"line\": {\"color\": \"white\"}}, \"type\": \"table\"}]}, \"layout\": {\"annotationdefaults\": {\"arrowcolor\": \"#2a3f5f\", \"arrowhead\": 0, \"arrowwidth\": 1}, \"autotypenumbers\": \"strict\", \"coloraxis\": {\"colorbar\": {\"outlinewidth\": 0, \"ticks\": \"\"}}, \"colorscale\": {\"diverging\": [[0, \"#8e0152\"], [0.1, \"#c51b7d\"], [0.2, \"#de77ae\"], [0.3, \"#f1b6da\"], [0.4, \"#fde0ef\"], [0.5, \"#f7f7f7\"], [0.6, \"#e6f5d0\"], [0.7, \"#b8e186\"], [0.8, \"#7fbc41\"], [0.9, \"#4d9221\"], [1, \"#276419\"]], \"sequential\": [[0.0, \"#0d0887\"], [0.1111111111111111, \"#46039f\"], [0.2222222222222222, \"#7201a8\"], [0.3333333333333333, \"#9c179e\"], [0.4444444444444444, \"#bd3786\"], [0.5555555555555556, \"#d8576b\"], [0.6666666666666666, \"#ed7953\"], [0.7777777777777778, \"#fb9f3a\"], [0.8888888888888888, \"#fdca26\"], [1.0, \"#f0f921\"]], \"sequentialminus\": [[0.0, \"#0d0887\"], [0.1111111111111111, \"#46039f\"], [0.2222222222222222, \"#7201a8\"], [0.3333333333333333, \"#9c179e\"], [0.4444444444444444, \"#bd3786\"], [0.5555555555555556, \"#d8576b\"], [0.6666666666666666, \"#ed7953\"], [0.7777777777777778, \"#fb9f3a\"], [0.8888888888888888, \"#fdca26\"], [1.0, \"#f0f921\"]]}, \"colorway\": [\"#636efa\", \"#EF553B\", \"#00cc96\", \"#ab63fa\", \"#FFA15A\", \"#19d3f3\", \"#FF6692\", \"#B6E880\", \"#FF97FF\", \"#FECB52\"], \"font\": {\"color\": \"#2a3f5f\"}, \"geo\": {\"bgcolor\": \"white\", \"lakecolor\": \"white\", \"landcolor\": \"#E5ECF6\", \"showlakes\": true, \"showland\": true, \"subunitcolor\": \"white\"}, \"hoverlabel\": {\"align\": \"left\"}, \"hovermode\": \"closest\", \"mapbox\": {\"style\": \"light\"}, \"paper_bgcolor\": \"white\", \"plot_bgcolor\": \"#E5ECF6\", \"polar\": {\"angularaxis\": {\"gridcolor\": \"white\", \"linecolor\": \"white\", \"ticks\": \"\"}, \"bgcolor\": \"#E5ECF6\", \"radialaxis\": {\"gridcolor\": \"white\", \"linecolor\": \"white\", \"ticks\": \"\"}}, \"scene\": {\"xaxis\": {\"backgroundcolor\": \"#E5ECF6\", \"gridcolor\": \"white\", \"gridwidth\": 2, \"linecolor\": \"white\", \"showbackground\": true, \"ticks\": \"\", \"zerolinecolor\": \"white\"}, \"yaxis\": {\"backgroundcolor\": \"#E5ECF6\", \"gridcolor\": \"white\", \"gridwidth\": 2, \"linecolor\": \"white\", \"showbackground\": true, \"ticks\": \"\", \"zerolinecolor\": \"white\"}, \"zaxis\": {\"backgroundcolor\": \"#E5ECF6\", \"gridcolor\": \"white\", \"gridwidth\": 2, \"linecolor\": \"white\", \"showbackground\": true, \"ticks\": \"\", \"zerolinecolor\": \"white\"}}, \"shapedefaults\": {\"line\": {\"color\": \"#2a3f5f\"}}, \"ternary\": {\"aaxis\": {\"gridcolor\": \"white\", \"linecolor\": \"white\", \"ticks\": \"\"}, \"baxis\": {\"gridcolor\": \"white\", \"linecolor\": \"white\", \"ticks\": \"\"}, \"bgcolor\": \"#E5ECF6\", \"caxis\": {\"gridcolor\": \"white\", \"linecolor\": \"white\", \"ticks\": \"\"}}, \"title\": {\"x\": 0.05}, \"xaxis\": {\"automargin\": true, \"gridcolor\": \"white\", \"linecolor\": \"white\", \"ticks\": \"\", \"title\": {\"standoff\": 15}, \"zerolinecolor\": \"white\", \"zerolinewidth\": 2}, \"yaxis\": {\"automargin\": true, \"gridcolor\": \"white\", \"linecolor\": \"white\", \"ticks\": \"\", \"title\": {\"standoff\": 15}, \"zerolinecolor\": \"white\", \"zerolinewidth\": 2}}}, \"title\": {\"text\": \"Volatility smile for GOOG\"}, \"xaxis\": {\"title\": {\"text\": \"K/S\"}}, \"yaxis\": {\"title\": {\"text\": \"Implied volatility\"}}},                        {\"responsive\": true}                    ).then(function(){\n",
       "                            \n",
       "var gd = document.getElementById('d9421ad8-cf01-43df-8f0c-5a7c3bd28b6a');\n",
       "var x = new MutationObserver(function (mutations, observer) {{\n",
       "        var display = window.getComputedStyle(gd).display;\n",
       "        if (!display || display === 'none') {{\n",
       "            console.log([gd, 'removed!']);\n",
       "            Plotly.purge(gd);\n",
       "            observer.disconnect();\n",
       "        }}\n",
       "}});\n",
       "\n",
       "// Listen for the removal of the full notebook cells\n",
       "var notebookContainer = gd.closest('#notebook-container');\n",
       "if (notebookContainer) {{\n",
       "    x.observe(notebookContainer, {childList: true});\n",
       "}}\n",
       "\n",
       "// Listen for the clearing of the current output cell\n",
       "var outputEl = gd.closest('.output');\n",
       "if (outputEl) {{\n",
       "    x.observe(outputEl, {childList: true});\n",
       "}}\n",
       "\n",
       "                        })                };                });            </script>        </div>"
      ]
     },
     "metadata": {},
     "output_type": "display_data"
    }
   ],
   "source": [
    "opt_0 = opt[opt[\"date\"] == min(opt[\"date\"])]\n",
    "opt_1 = opt[opt[\"date\"] == max(opt[\"date\"])]\n",
    "t_0 = round(min(opt_0[\"t_n\"] * 252))\n",
    "t_1 = round(min(opt_1[\"t_n\"] * 252))\n",
    "\n",
    "\n",
    "fig = go.Figure(layout_title=\"Volatility smile for GOOG\",\n",
    "               layout_xaxis_title=\"K/S\",\n",
    "               layout_yaxis_title=\"Implied volatility\"\n",
    "               )\n",
    "fig.add_trace(go.Scatter(x=opt_0[\"strike\"] / s0, y=opt_0[\"call_sig\"],\n",
    "                        line={\"color\": col_0, \"dash\": \"solid\"}, name=f\"Call-Implied volatility, t:{t_0}d\", mode=\"lines\"))\n",
    "fig.add_trace(go.Scatter(x=opt_0[\"strike\"] / s0, y=opt_0[\"put_sig\"],\n",
    "                        line={\"color\": col_0, \"dash\": \"dash\"}, name=f\"Put-Implied volatility, t:{t_0}d\", mode=\"lines\"))\n",
    "fig.add_trace(go.Scatter(x=opt_1[\"strike\"] / s0, y=opt_1[\"call_sig\"],\n",
    "                        line={\"color\": col_1, \"dash\": \"solid\"}, name=f\"Call-Implied volatility, t:{t_1}d\", mode=\"lines\"))\n",
    "fig.add_trace(go.Scatter(x=opt_1[\"strike\"] / s0, y=opt_1[\"put_sig\"],\n",
    "                        line={\"color\": col_1, \"dash\": \"dash\"}, name=f\"Put-Implied volatility, t:{t_1}d\", mode=\"lines\"))\n",
    "iplot(fig)"
   ]
  },
  {
   "cell_type": "markdown",
   "metadata": {},
   "source": [
    "There are some remarkable features to be observed here:\n",
    "\n",
    "**Put- call difference**: Puts have the higher implied volatility (aka are more expensive) than call options (on GOOG). While this does not necessarily follow the theory behind BS, I found plausible explanations explaining this difference by the higher demand for puts (\"insurance\" against downturns) than for calls. This would mean that the \"true\" expected volatility lies somewhere in between those two lines. Could an options trader then not make money over the long term by being on the opposide side of those trades? One problem could be that since in crises most asset classes are correlated and losses on puts are unbounded, this could wipe out the trader. Would be interesting to discuss with someone who has knowledge about this. Please contact me if you do and would be willing to discuss!\n",
    "\n",
    "**Difference between dates**: According to hull (Chapter 20), volatility expectations are mean-reverting which, if the reason for the decrease in implied volatility on the later contract, would mean that the volatility expected between the two expiry dates is lower than the one up to the first expiry date. Without evidence I could also see part of the reason being the end of the year (window dressing?), but without historic data, this is hard to confirm. Unfortunately, I did not find historic option prices freely available online, so these hypotheses cannot really be tested.\n",
    "\n",
    "**Lack of decreate for calls**: interestingly, the call smile is significantly flatter than the put smile, with the implied volatility even increasing for low strikes. If, as argued for the put-call difference, the implied volatilities reflect supply and demand, then this would mean that the demand for low strikes strongly tails off towards lower and lower strikes.\n"
   ]
  },
  {
   "cell_type": "code",
   "execution_count": 59,
   "metadata": {},
   "outputs": [],
   "source": [
    "x = list(range(10, 50))\n",
    "returns = hist[\"Close\"].pct_change().map(lambda x: np.log(1+x))\n",
    "y = [returns.iloc[-t:].std() * np.sqrt(252) for t in x]"
   ]
  },
  {
   "cell_type": "code",
   "execution_count": 60,
   "metadata": {},
   "outputs": [
    {
     "data": {
      "application/vnd.plotly.v1+json": {
       "config": {
        "linkText": "Export to plot.ly",
        "plotlyServerURL": "https://plot.ly",
        "showLink": false
       },
       "data": [
        {
         "line": {
          "color": "#1f77b4",
          "dash": "solid"
         },
         "mode": "lines",
         "type": "scatter",
         "x": [
          10,
          11,
          12,
          13,
          14,
          15,
          16,
          17,
          18,
          19,
          20,
          21,
          22,
          23,
          24,
          25,
          26,
          27,
          28,
          29,
          30,
          31,
          32,
          33,
          34,
          35,
          36,
          37,
          38,
          39,
          40,
          41,
          42,
          43,
          44,
          45,
          46,
          47,
          48,
          49
         ],
         "y": [
          0.1576634585339066,
          0.16053776617076507,
          0.15464222562030297,
          0.14918791543780385,
          0.16242014958534862,
          0.1567012041520883,
          0.15168756751283266,
          0.14734943259029623,
          0.14307328909086384,
          0.15468015735550497,
          0.16986804858823373,
          0.17717016677216477,
          0.17852239175202644,
          0.1745160190169203,
          0.18219316445346134,
          0.17900301319886577,
          0.17983827151670115,
          0.17890947619804037,
          0.18020457672248374,
          0.17786647270189465,
          0.17497377774529677,
          0.17780323002539564,
          0.17498501896103472,
          0.17329575674535214,
          0.1744067914647425,
          0.17183561573994607,
          0.16937867064560774,
          0.1683689887378753,
          0.22347951012671285,
          0.2230137969699883,
          0.22015278908098834,
          0.23114925091625765,
          0.23986282766423603,
          0.27758747330583466,
          0.27478245384557065,
          0.2830228858509082,
          0.28183461865527976,
          0.28010766264376813,
          0.2815122454221831,
          0.27972918711701367
         ]
        }
       ],
       "layout": {
        "template": {
         "data": {
          "bar": [
           {
            "error_x": {
             "color": "#2a3f5f"
            },
            "error_y": {
             "color": "#2a3f5f"
            },
            "marker": {
             "line": {
              "color": "#E5ECF6",
              "width": 0.5
             }
            },
            "type": "bar"
           }
          ],
          "barpolar": [
           {
            "marker": {
             "line": {
              "color": "#E5ECF6",
              "width": 0.5
             }
            },
            "type": "barpolar"
           }
          ],
          "carpet": [
           {
            "aaxis": {
             "endlinecolor": "#2a3f5f",
             "gridcolor": "white",
             "linecolor": "white",
             "minorgridcolor": "white",
             "startlinecolor": "#2a3f5f"
            },
            "baxis": {
             "endlinecolor": "#2a3f5f",
             "gridcolor": "white",
             "linecolor": "white",
             "minorgridcolor": "white",
             "startlinecolor": "#2a3f5f"
            },
            "type": "carpet"
           }
          ],
          "choropleth": [
           {
            "colorbar": {
             "outlinewidth": 0,
             "ticks": ""
            },
            "type": "choropleth"
           }
          ],
          "contour": [
           {
            "colorbar": {
             "outlinewidth": 0,
             "ticks": ""
            },
            "colorscale": [
             [
              0,
              "#0d0887"
             ],
             [
              0.1111111111111111,
              "#46039f"
             ],
             [
              0.2222222222222222,
              "#7201a8"
             ],
             [
              0.3333333333333333,
              "#9c179e"
             ],
             [
              0.4444444444444444,
              "#bd3786"
             ],
             [
              0.5555555555555556,
              "#d8576b"
             ],
             [
              0.6666666666666666,
              "#ed7953"
             ],
             [
              0.7777777777777778,
              "#fb9f3a"
             ],
             [
              0.8888888888888888,
              "#fdca26"
             ],
             [
              1,
              "#f0f921"
             ]
            ],
            "type": "contour"
           }
          ],
          "contourcarpet": [
           {
            "colorbar": {
             "outlinewidth": 0,
             "ticks": ""
            },
            "type": "contourcarpet"
           }
          ],
          "heatmap": [
           {
            "colorbar": {
             "outlinewidth": 0,
             "ticks": ""
            },
            "colorscale": [
             [
              0,
              "#0d0887"
             ],
             [
              0.1111111111111111,
              "#46039f"
             ],
             [
              0.2222222222222222,
              "#7201a8"
             ],
             [
              0.3333333333333333,
              "#9c179e"
             ],
             [
              0.4444444444444444,
              "#bd3786"
             ],
             [
              0.5555555555555556,
              "#d8576b"
             ],
             [
              0.6666666666666666,
              "#ed7953"
             ],
             [
              0.7777777777777778,
              "#fb9f3a"
             ],
             [
              0.8888888888888888,
              "#fdca26"
             ],
             [
              1,
              "#f0f921"
             ]
            ],
            "type": "heatmap"
           }
          ],
          "heatmapgl": [
           {
            "colorbar": {
             "outlinewidth": 0,
             "ticks": ""
            },
            "colorscale": [
             [
              0,
              "#0d0887"
             ],
             [
              0.1111111111111111,
              "#46039f"
             ],
             [
              0.2222222222222222,
              "#7201a8"
             ],
             [
              0.3333333333333333,
              "#9c179e"
             ],
             [
              0.4444444444444444,
              "#bd3786"
             ],
             [
              0.5555555555555556,
              "#d8576b"
             ],
             [
              0.6666666666666666,
              "#ed7953"
             ],
             [
              0.7777777777777778,
              "#fb9f3a"
             ],
             [
              0.8888888888888888,
              "#fdca26"
             ],
             [
              1,
              "#f0f921"
             ]
            ],
            "type": "heatmapgl"
           }
          ],
          "histogram": [
           {
            "marker": {
             "colorbar": {
              "outlinewidth": 0,
              "ticks": ""
             }
            },
            "type": "histogram"
           }
          ],
          "histogram2d": [
           {
            "colorbar": {
             "outlinewidth": 0,
             "ticks": ""
            },
            "colorscale": [
             [
              0,
              "#0d0887"
             ],
             [
              0.1111111111111111,
              "#46039f"
             ],
             [
              0.2222222222222222,
              "#7201a8"
             ],
             [
              0.3333333333333333,
              "#9c179e"
             ],
             [
              0.4444444444444444,
              "#bd3786"
             ],
             [
              0.5555555555555556,
              "#d8576b"
             ],
             [
              0.6666666666666666,
              "#ed7953"
             ],
             [
              0.7777777777777778,
              "#fb9f3a"
             ],
             [
              0.8888888888888888,
              "#fdca26"
             ],
             [
              1,
              "#f0f921"
             ]
            ],
            "type": "histogram2d"
           }
          ],
          "histogram2dcontour": [
           {
            "colorbar": {
             "outlinewidth": 0,
             "ticks": ""
            },
            "colorscale": [
             [
              0,
              "#0d0887"
             ],
             [
              0.1111111111111111,
              "#46039f"
             ],
             [
              0.2222222222222222,
              "#7201a8"
             ],
             [
              0.3333333333333333,
              "#9c179e"
             ],
             [
              0.4444444444444444,
              "#bd3786"
             ],
             [
              0.5555555555555556,
              "#d8576b"
             ],
             [
              0.6666666666666666,
              "#ed7953"
             ],
             [
              0.7777777777777778,
              "#fb9f3a"
             ],
             [
              0.8888888888888888,
              "#fdca26"
             ],
             [
              1,
              "#f0f921"
             ]
            ],
            "type": "histogram2dcontour"
           }
          ],
          "mesh3d": [
           {
            "colorbar": {
             "outlinewidth": 0,
             "ticks": ""
            },
            "type": "mesh3d"
           }
          ],
          "parcoords": [
           {
            "line": {
             "colorbar": {
              "outlinewidth": 0,
              "ticks": ""
             }
            },
            "type": "parcoords"
           }
          ],
          "pie": [
           {
            "automargin": true,
            "type": "pie"
           }
          ],
          "scatter": [
           {
            "marker": {
             "colorbar": {
              "outlinewidth": 0,
              "ticks": ""
             }
            },
            "type": "scatter"
           }
          ],
          "scatter3d": [
           {
            "line": {
             "colorbar": {
              "outlinewidth": 0,
              "ticks": ""
             }
            },
            "marker": {
             "colorbar": {
              "outlinewidth": 0,
              "ticks": ""
             }
            },
            "type": "scatter3d"
           }
          ],
          "scattercarpet": [
           {
            "marker": {
             "colorbar": {
              "outlinewidth": 0,
              "ticks": ""
             }
            },
            "type": "scattercarpet"
           }
          ],
          "scattergeo": [
           {
            "marker": {
             "colorbar": {
              "outlinewidth": 0,
              "ticks": ""
             }
            },
            "type": "scattergeo"
           }
          ],
          "scattergl": [
           {
            "marker": {
             "colorbar": {
              "outlinewidth": 0,
              "ticks": ""
             }
            },
            "type": "scattergl"
           }
          ],
          "scattermapbox": [
           {
            "marker": {
             "colorbar": {
              "outlinewidth": 0,
              "ticks": ""
             }
            },
            "type": "scattermapbox"
           }
          ],
          "scatterpolar": [
           {
            "marker": {
             "colorbar": {
              "outlinewidth": 0,
              "ticks": ""
             }
            },
            "type": "scatterpolar"
           }
          ],
          "scatterpolargl": [
           {
            "marker": {
             "colorbar": {
              "outlinewidth": 0,
              "ticks": ""
             }
            },
            "type": "scatterpolargl"
           }
          ],
          "scatterternary": [
           {
            "marker": {
             "colorbar": {
              "outlinewidth": 0,
              "ticks": ""
             }
            },
            "type": "scatterternary"
           }
          ],
          "surface": [
           {
            "colorbar": {
             "outlinewidth": 0,
             "ticks": ""
            },
            "colorscale": [
             [
              0,
              "#0d0887"
             ],
             [
              0.1111111111111111,
              "#46039f"
             ],
             [
              0.2222222222222222,
              "#7201a8"
             ],
             [
              0.3333333333333333,
              "#9c179e"
             ],
             [
              0.4444444444444444,
              "#bd3786"
             ],
             [
              0.5555555555555556,
              "#d8576b"
             ],
             [
              0.6666666666666666,
              "#ed7953"
             ],
             [
              0.7777777777777778,
              "#fb9f3a"
             ],
             [
              0.8888888888888888,
              "#fdca26"
             ],
             [
              1,
              "#f0f921"
             ]
            ],
            "type": "surface"
           }
          ],
          "table": [
           {
            "cells": {
             "fill": {
              "color": "#EBF0F8"
             },
             "line": {
              "color": "white"
             }
            },
            "header": {
             "fill": {
              "color": "#C8D4E3"
             },
             "line": {
              "color": "white"
             }
            },
            "type": "table"
           }
          ]
         },
         "layout": {
          "annotationdefaults": {
           "arrowcolor": "#2a3f5f",
           "arrowhead": 0,
           "arrowwidth": 1
          },
          "autotypenumbers": "strict",
          "coloraxis": {
           "colorbar": {
            "outlinewidth": 0,
            "ticks": ""
           }
          },
          "colorscale": {
           "diverging": [
            [
             0,
             "#8e0152"
            ],
            [
             0.1,
             "#c51b7d"
            ],
            [
             0.2,
             "#de77ae"
            ],
            [
             0.3,
             "#f1b6da"
            ],
            [
             0.4,
             "#fde0ef"
            ],
            [
             0.5,
             "#f7f7f7"
            ],
            [
             0.6,
             "#e6f5d0"
            ],
            [
             0.7,
             "#b8e186"
            ],
            [
             0.8,
             "#7fbc41"
            ],
            [
             0.9,
             "#4d9221"
            ],
            [
             1,
             "#276419"
            ]
           ],
           "sequential": [
            [
             0,
             "#0d0887"
            ],
            [
             0.1111111111111111,
             "#46039f"
            ],
            [
             0.2222222222222222,
             "#7201a8"
            ],
            [
             0.3333333333333333,
             "#9c179e"
            ],
            [
             0.4444444444444444,
             "#bd3786"
            ],
            [
             0.5555555555555556,
             "#d8576b"
            ],
            [
             0.6666666666666666,
             "#ed7953"
            ],
            [
             0.7777777777777778,
             "#fb9f3a"
            ],
            [
             0.8888888888888888,
             "#fdca26"
            ],
            [
             1,
             "#f0f921"
            ]
           ],
           "sequentialminus": [
            [
             0,
             "#0d0887"
            ],
            [
             0.1111111111111111,
             "#46039f"
            ],
            [
             0.2222222222222222,
             "#7201a8"
            ],
            [
             0.3333333333333333,
             "#9c179e"
            ],
            [
             0.4444444444444444,
             "#bd3786"
            ],
            [
             0.5555555555555556,
             "#d8576b"
            ],
            [
             0.6666666666666666,
             "#ed7953"
            ],
            [
             0.7777777777777778,
             "#fb9f3a"
            ],
            [
             0.8888888888888888,
             "#fdca26"
            ],
            [
             1,
             "#f0f921"
            ]
           ]
          },
          "colorway": [
           "#636efa",
           "#EF553B",
           "#00cc96",
           "#ab63fa",
           "#FFA15A",
           "#19d3f3",
           "#FF6692",
           "#B6E880",
           "#FF97FF",
           "#FECB52"
          ],
          "font": {
           "color": "#2a3f5f"
          },
          "geo": {
           "bgcolor": "white",
           "lakecolor": "white",
           "landcolor": "#E5ECF6",
           "showlakes": true,
           "showland": true,
           "subunitcolor": "white"
          },
          "hoverlabel": {
           "align": "left"
          },
          "hovermode": "closest",
          "mapbox": {
           "style": "light"
          },
          "paper_bgcolor": "white",
          "plot_bgcolor": "#E5ECF6",
          "polar": {
           "angularaxis": {
            "gridcolor": "white",
            "linecolor": "white",
            "ticks": ""
           },
           "bgcolor": "#E5ECF6",
           "radialaxis": {
            "gridcolor": "white",
            "linecolor": "white",
            "ticks": ""
           }
          },
          "scene": {
           "xaxis": {
            "backgroundcolor": "#E5ECF6",
            "gridcolor": "white",
            "gridwidth": 2,
            "linecolor": "white",
            "showbackground": true,
            "ticks": "",
            "zerolinecolor": "white"
           },
           "yaxis": {
            "backgroundcolor": "#E5ECF6",
            "gridcolor": "white",
            "gridwidth": 2,
            "linecolor": "white",
            "showbackground": true,
            "ticks": "",
            "zerolinecolor": "white"
           },
           "zaxis": {
            "backgroundcolor": "#E5ECF6",
            "gridcolor": "white",
            "gridwidth": 2,
            "linecolor": "white",
            "showbackground": true,
            "ticks": "",
            "zerolinecolor": "white"
           }
          },
          "shapedefaults": {
           "line": {
            "color": "#2a3f5f"
           }
          },
          "ternary": {
           "aaxis": {
            "gridcolor": "white",
            "linecolor": "white",
            "ticks": ""
           },
           "baxis": {
            "gridcolor": "white",
            "linecolor": "white",
            "ticks": ""
           },
           "bgcolor": "#E5ECF6",
           "caxis": {
            "gridcolor": "white",
            "linecolor": "white",
            "ticks": ""
           }
          },
          "title": {
           "x": 0.05
          },
          "xaxis": {
           "automargin": true,
           "gridcolor": "white",
           "linecolor": "white",
           "ticks": "",
           "title": {
            "standoff": 15
           },
           "zerolinecolor": "white",
           "zerolinewidth": 2
          },
          "yaxis": {
           "automargin": true,
           "gridcolor": "white",
           "linecolor": "white",
           "ticks": "",
           "title": {
            "standoff": 15
           },
           "zerolinecolor": "white",
           "zerolinewidth": 2
          }
         }
        },
        "title": {
         "text": "Obseved annualised log volatility in same order of magnitude as implied forward volatility"
        },
        "xaxis": {
         "title": {
          "text": "Trading days of observation"
         }
        },
        "yaxis": {
         "title": {
          "text": "Observed volatility"
         }
        }
       }
      },
      "text/html": [
       "<div>                            <div id=\"c834401d-8118-480f-af3e-b494cc20c566\" class=\"plotly-graph-div\" style=\"height:525px; width:100%;\"></div>            <script type=\"text/javascript\">                require([\"plotly\"], function(Plotly) {                    window.PLOTLYENV=window.PLOTLYENV || {};                                    if (document.getElementById(\"c834401d-8118-480f-af3e-b494cc20c566\")) {                    Plotly.newPlot(                        \"c834401d-8118-480f-af3e-b494cc20c566\",                        [{\"line\": {\"color\": \"#1f77b4\", \"dash\": \"solid\"}, \"mode\": \"lines\", \"type\": \"scatter\", \"x\": [10, 11, 12, 13, 14, 15, 16, 17, 18, 19, 20, 21, 22, 23, 24, 25, 26, 27, 28, 29, 30, 31, 32, 33, 34, 35, 36, 37, 38, 39, 40, 41, 42, 43, 44, 45, 46, 47, 48, 49], \"y\": [0.1576634585339066, 0.16053776617076507, 0.15464222562030297, 0.14918791543780385, 0.16242014958534862, 0.1567012041520883, 0.15168756751283266, 0.14734943259029623, 0.14307328909086384, 0.15468015735550497, 0.16986804858823373, 0.17717016677216477, 0.17852239175202644, 0.1745160190169203, 0.18219316445346134, 0.17900301319886577, 0.17983827151670115, 0.17890947619804037, 0.18020457672248374, 0.17786647270189465, 0.17497377774529677, 0.17780323002539564, 0.17498501896103472, 0.17329575674535214, 0.1744067914647425, 0.17183561573994607, 0.16937867064560774, 0.1683689887378753, 0.22347951012671285, 0.2230137969699883, 0.22015278908098834, 0.23114925091625765, 0.23986282766423603, 0.27758747330583466, 0.27478245384557065, 0.2830228858509082, 0.28183461865527976, 0.28010766264376813, 0.2815122454221831, 0.27972918711701367]}],                        {\"template\": {\"data\": {\"bar\": [{\"error_x\": {\"color\": \"#2a3f5f\"}, \"error_y\": {\"color\": \"#2a3f5f\"}, \"marker\": {\"line\": {\"color\": \"#E5ECF6\", \"width\": 0.5}}, \"type\": \"bar\"}], \"barpolar\": [{\"marker\": {\"line\": {\"color\": \"#E5ECF6\", \"width\": 0.5}}, \"type\": \"barpolar\"}], \"carpet\": [{\"aaxis\": {\"endlinecolor\": \"#2a3f5f\", \"gridcolor\": \"white\", \"linecolor\": \"white\", \"minorgridcolor\": \"white\", \"startlinecolor\": \"#2a3f5f\"}, \"baxis\": {\"endlinecolor\": \"#2a3f5f\", \"gridcolor\": \"white\", \"linecolor\": \"white\", \"minorgridcolor\": \"white\", \"startlinecolor\": \"#2a3f5f\"}, \"type\": \"carpet\"}], \"choropleth\": [{\"colorbar\": {\"outlinewidth\": 0, \"ticks\": \"\"}, \"type\": \"choropleth\"}], \"contour\": [{\"colorbar\": {\"outlinewidth\": 0, \"ticks\": \"\"}, \"colorscale\": [[0.0, \"#0d0887\"], [0.1111111111111111, \"#46039f\"], [0.2222222222222222, \"#7201a8\"], [0.3333333333333333, \"#9c179e\"], [0.4444444444444444, \"#bd3786\"], [0.5555555555555556, \"#d8576b\"], [0.6666666666666666, \"#ed7953\"], [0.7777777777777778, \"#fb9f3a\"], [0.8888888888888888, \"#fdca26\"], [1.0, \"#f0f921\"]], \"type\": \"contour\"}], \"contourcarpet\": [{\"colorbar\": {\"outlinewidth\": 0, \"ticks\": \"\"}, \"type\": \"contourcarpet\"}], \"heatmap\": [{\"colorbar\": {\"outlinewidth\": 0, \"ticks\": \"\"}, \"colorscale\": [[0.0, \"#0d0887\"], [0.1111111111111111, \"#46039f\"], [0.2222222222222222, \"#7201a8\"], [0.3333333333333333, \"#9c179e\"], [0.4444444444444444, \"#bd3786\"], [0.5555555555555556, \"#d8576b\"], [0.6666666666666666, \"#ed7953\"], [0.7777777777777778, \"#fb9f3a\"], [0.8888888888888888, \"#fdca26\"], [1.0, \"#f0f921\"]], \"type\": \"heatmap\"}], \"heatmapgl\": [{\"colorbar\": {\"outlinewidth\": 0, \"ticks\": \"\"}, \"colorscale\": [[0.0, \"#0d0887\"], [0.1111111111111111, \"#46039f\"], [0.2222222222222222, \"#7201a8\"], [0.3333333333333333, \"#9c179e\"], [0.4444444444444444, \"#bd3786\"], [0.5555555555555556, \"#d8576b\"], [0.6666666666666666, \"#ed7953\"], [0.7777777777777778, \"#fb9f3a\"], [0.8888888888888888, \"#fdca26\"], [1.0, \"#f0f921\"]], \"type\": \"heatmapgl\"}], \"histogram\": [{\"marker\": {\"colorbar\": {\"outlinewidth\": 0, \"ticks\": \"\"}}, \"type\": \"histogram\"}], \"histogram2d\": [{\"colorbar\": {\"outlinewidth\": 0, \"ticks\": \"\"}, \"colorscale\": [[0.0, \"#0d0887\"], [0.1111111111111111, \"#46039f\"], [0.2222222222222222, \"#7201a8\"], [0.3333333333333333, \"#9c179e\"], [0.4444444444444444, \"#bd3786\"], [0.5555555555555556, \"#d8576b\"], [0.6666666666666666, \"#ed7953\"], [0.7777777777777778, \"#fb9f3a\"], [0.8888888888888888, \"#fdca26\"], [1.0, \"#f0f921\"]], \"type\": \"histogram2d\"}], \"histogram2dcontour\": [{\"colorbar\": {\"outlinewidth\": 0, \"ticks\": \"\"}, \"colorscale\": [[0.0, \"#0d0887\"], [0.1111111111111111, \"#46039f\"], [0.2222222222222222, \"#7201a8\"], [0.3333333333333333, \"#9c179e\"], [0.4444444444444444, \"#bd3786\"], [0.5555555555555556, \"#d8576b\"], [0.6666666666666666, \"#ed7953\"], [0.7777777777777778, \"#fb9f3a\"], [0.8888888888888888, \"#fdca26\"], [1.0, \"#f0f921\"]], \"type\": \"histogram2dcontour\"}], \"mesh3d\": [{\"colorbar\": {\"outlinewidth\": 0, \"ticks\": \"\"}, \"type\": \"mesh3d\"}], \"parcoords\": [{\"line\": {\"colorbar\": {\"outlinewidth\": 0, \"ticks\": \"\"}}, \"type\": \"parcoords\"}], \"pie\": [{\"automargin\": true, \"type\": \"pie\"}], \"scatter\": [{\"marker\": {\"colorbar\": {\"outlinewidth\": 0, \"ticks\": \"\"}}, \"type\": \"scatter\"}], \"scatter3d\": [{\"line\": {\"colorbar\": {\"outlinewidth\": 0, \"ticks\": \"\"}}, \"marker\": {\"colorbar\": {\"outlinewidth\": 0, \"ticks\": \"\"}}, \"type\": \"scatter3d\"}], \"scattercarpet\": [{\"marker\": {\"colorbar\": {\"outlinewidth\": 0, \"ticks\": \"\"}}, \"type\": \"scattercarpet\"}], \"scattergeo\": [{\"marker\": {\"colorbar\": {\"outlinewidth\": 0, \"ticks\": \"\"}}, \"type\": \"scattergeo\"}], \"scattergl\": [{\"marker\": {\"colorbar\": {\"outlinewidth\": 0, \"ticks\": \"\"}}, \"type\": \"scattergl\"}], \"scattermapbox\": [{\"marker\": {\"colorbar\": {\"outlinewidth\": 0, \"ticks\": \"\"}}, \"type\": \"scattermapbox\"}], \"scatterpolar\": [{\"marker\": {\"colorbar\": {\"outlinewidth\": 0, \"ticks\": \"\"}}, \"type\": \"scatterpolar\"}], \"scatterpolargl\": [{\"marker\": {\"colorbar\": {\"outlinewidth\": 0, \"ticks\": \"\"}}, \"type\": \"scatterpolargl\"}], \"scatterternary\": [{\"marker\": {\"colorbar\": {\"outlinewidth\": 0, \"ticks\": \"\"}}, \"type\": \"scatterternary\"}], \"surface\": [{\"colorbar\": {\"outlinewidth\": 0, \"ticks\": \"\"}, \"colorscale\": [[0.0, \"#0d0887\"], [0.1111111111111111, \"#46039f\"], [0.2222222222222222, \"#7201a8\"], [0.3333333333333333, \"#9c179e\"], [0.4444444444444444, \"#bd3786\"], [0.5555555555555556, \"#d8576b\"], [0.6666666666666666, \"#ed7953\"], [0.7777777777777778, \"#fb9f3a\"], [0.8888888888888888, \"#fdca26\"], [1.0, \"#f0f921\"]], \"type\": \"surface\"}], \"table\": [{\"cells\": {\"fill\": {\"color\": \"#EBF0F8\"}, \"line\": {\"color\": \"white\"}}, \"header\": {\"fill\": {\"color\": \"#C8D4E3\"}, \"line\": {\"color\": \"white\"}}, \"type\": \"table\"}]}, \"layout\": {\"annotationdefaults\": {\"arrowcolor\": \"#2a3f5f\", \"arrowhead\": 0, \"arrowwidth\": 1}, \"autotypenumbers\": \"strict\", \"coloraxis\": {\"colorbar\": {\"outlinewidth\": 0, \"ticks\": \"\"}}, \"colorscale\": {\"diverging\": [[0, \"#8e0152\"], [0.1, \"#c51b7d\"], [0.2, \"#de77ae\"], [0.3, \"#f1b6da\"], [0.4, \"#fde0ef\"], [0.5, \"#f7f7f7\"], [0.6, \"#e6f5d0\"], [0.7, \"#b8e186\"], [0.8, \"#7fbc41\"], [0.9, \"#4d9221\"], [1, \"#276419\"]], \"sequential\": [[0.0, \"#0d0887\"], [0.1111111111111111, \"#46039f\"], [0.2222222222222222, \"#7201a8\"], [0.3333333333333333, \"#9c179e\"], [0.4444444444444444, \"#bd3786\"], [0.5555555555555556, \"#d8576b\"], [0.6666666666666666, \"#ed7953\"], [0.7777777777777778, \"#fb9f3a\"], [0.8888888888888888, \"#fdca26\"], [1.0, \"#f0f921\"]], \"sequentialminus\": [[0.0, \"#0d0887\"], [0.1111111111111111, \"#46039f\"], [0.2222222222222222, \"#7201a8\"], [0.3333333333333333, \"#9c179e\"], [0.4444444444444444, \"#bd3786\"], [0.5555555555555556, \"#d8576b\"], [0.6666666666666666, \"#ed7953\"], [0.7777777777777778, \"#fb9f3a\"], [0.8888888888888888, \"#fdca26\"], [1.0, \"#f0f921\"]]}, \"colorway\": [\"#636efa\", \"#EF553B\", \"#00cc96\", \"#ab63fa\", \"#FFA15A\", \"#19d3f3\", \"#FF6692\", \"#B6E880\", \"#FF97FF\", \"#FECB52\"], \"font\": {\"color\": \"#2a3f5f\"}, \"geo\": {\"bgcolor\": \"white\", \"lakecolor\": \"white\", \"landcolor\": \"#E5ECF6\", \"showlakes\": true, \"showland\": true, \"subunitcolor\": \"white\"}, \"hoverlabel\": {\"align\": \"left\"}, \"hovermode\": \"closest\", \"mapbox\": {\"style\": \"light\"}, \"paper_bgcolor\": \"white\", \"plot_bgcolor\": \"#E5ECF6\", \"polar\": {\"angularaxis\": {\"gridcolor\": \"white\", \"linecolor\": \"white\", \"ticks\": \"\"}, \"bgcolor\": \"#E5ECF6\", \"radialaxis\": {\"gridcolor\": \"white\", \"linecolor\": \"white\", \"ticks\": \"\"}}, \"scene\": {\"xaxis\": {\"backgroundcolor\": \"#E5ECF6\", \"gridcolor\": \"white\", \"gridwidth\": 2, \"linecolor\": \"white\", \"showbackground\": true, \"ticks\": \"\", \"zerolinecolor\": \"white\"}, \"yaxis\": {\"backgroundcolor\": \"#E5ECF6\", \"gridcolor\": \"white\", \"gridwidth\": 2, \"linecolor\": \"white\", \"showbackground\": true, \"ticks\": \"\", \"zerolinecolor\": \"white\"}, \"zaxis\": {\"backgroundcolor\": \"#E5ECF6\", \"gridcolor\": \"white\", \"gridwidth\": 2, \"linecolor\": \"white\", \"showbackground\": true, \"ticks\": \"\", \"zerolinecolor\": \"white\"}}, \"shapedefaults\": {\"line\": {\"color\": \"#2a3f5f\"}}, \"ternary\": {\"aaxis\": {\"gridcolor\": \"white\", \"linecolor\": \"white\", \"ticks\": \"\"}, \"baxis\": {\"gridcolor\": \"white\", \"linecolor\": \"white\", \"ticks\": \"\"}, \"bgcolor\": \"#E5ECF6\", \"caxis\": {\"gridcolor\": \"white\", \"linecolor\": \"white\", \"ticks\": \"\"}}, \"title\": {\"x\": 0.05}, \"xaxis\": {\"automargin\": true, \"gridcolor\": \"white\", \"linecolor\": \"white\", \"ticks\": \"\", \"title\": {\"standoff\": 15}, \"zerolinecolor\": \"white\", \"zerolinewidth\": 2}, \"yaxis\": {\"automargin\": true, \"gridcolor\": \"white\", \"linecolor\": \"white\", \"ticks\": \"\", \"title\": {\"standoff\": 15}, \"zerolinecolor\": \"white\", \"zerolinewidth\": 2}}}, \"title\": {\"text\": \"Obseved annualised log volatility in same order of magnitude as implied forward volatility\"}, \"xaxis\": {\"title\": {\"text\": \"Trading days of observation\"}}, \"yaxis\": {\"title\": {\"text\": \"Observed volatility\"}}},                        {\"responsive\": true}                    ).then(function(){\n",
       "                            \n",
       "var gd = document.getElementById('c834401d-8118-480f-af3e-b494cc20c566');\n",
       "var x = new MutationObserver(function (mutations, observer) {{\n",
       "        var display = window.getComputedStyle(gd).display;\n",
       "        if (!display || display === 'none') {{\n",
       "            console.log([gd, 'removed!']);\n",
       "            Plotly.purge(gd);\n",
       "            observer.disconnect();\n",
       "        }}\n",
       "}});\n",
       "\n",
       "// Listen for the removal of the full notebook cells\n",
       "var notebookContainer = gd.closest('#notebook-container');\n",
       "if (notebookContainer) {{\n",
       "    x.observe(notebookContainer, {childList: true});\n",
       "}}\n",
       "\n",
       "// Listen for the clearing of the current output cell\n",
       "var outputEl = gd.closest('.output');\n",
       "if (outputEl) {{\n",
       "    x.observe(outputEl, {childList: true});\n",
       "}}\n",
       "\n",
       "                        })                };                });            </script>        </div>"
      ]
     },
     "metadata": {},
     "output_type": "display_data"
    }
   ],
   "source": [
    "fig = go.Figure(layout_title=\"Obseved annualised log volatility in same order of magnitude as implied forward volatility\",\n",
    "               layout_xaxis_title=\"# Trading days included in vol calculation\",\n",
    "               layout_yaxis_title=\"Observed volatility\"\n",
    "               )\n",
    "fig.add_trace(go.Scatter(x=x, y=y,\n",
    "                        line={\"color\": col_0, \"dash\": \"solid\"}, mode=\"lines\"))\n",
    "\n",
    "iplot(fig)"
   ]
  },
  {
   "cell_type": "markdown",
   "metadata": {},
   "source": [
    "I am aware that implied volatilities are forward looking whereas historic changes in stock prices are forward looking, but an order-of-magnitudes comparison still can be comforting. Over \"similar\" window sizes (aka 28/38 days), the volatilities are very comparable. However, going further back, the volatilities were obviously considerable higher (March 2020 clearly visible). Interesting is the precipitous drop around 40 days. After mid to end October, the price seems to have been rather stable. It appears the markets assume this stability to continue in the near future."
   ]
  }
 ],
 "metadata": {
  "kernelspec": {
   "display_name": "Python 3",
   "language": "python",
   "name": "python3"
  },
  "language_info": {
   "codemirror_mode": {
    "name": "ipython",
    "version": 3
   },
   "file_extension": ".py",
   "mimetype": "text/x-python",
   "name": "python",
   "nbconvert_exporter": "python",
   "pygments_lexer": "ipython3",
   "version": "3.8.5"
  }
 },
 "nbformat": 4,
 "nbformat_minor": 4
}
